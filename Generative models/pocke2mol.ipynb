{
  "cells": [
    {
      "cell_type": "code",
      "execution_count": null,
      "metadata": {
        "colab": {
          "base_uri": "https://localhost:8080/"
        },
        "id": "NAsZ8dI1Vw5I",
        "outputId": "37a4e2b6-bf7d-4402-fdf3-2070b39fef1a"
      },
      "outputs": [
        {
          "output_type": "stream",
          "name": "stdout",
          "text": [
            "Cloning into 'Pocket2Mol'...\n",
            "remote: Enumerating objects: 266, done.\u001b[K\n",
            "remote: Counting objects: 100% (194/194), done.\u001b[K\n",
            "remote: Compressing objects: 100% (124/124), done.\u001b[K\n",
            "remote: Total 266 (delta 85), reused 157 (delta 65), pack-reused 72\u001b[K\n",
            "Receiving objects: 100% (266/266), 4.67 MiB | 3.82 MiB/s, done.\n",
            "Resolving deltas: 100% (90/90), done.\n"
          ]
        }
      ],
      "source": [
        "!git clone https://github.com/pengxingang/Pocket2Mol.git"
      ]
    },
    {
      "cell_type": "code",
      "execution_count": null,
      "metadata": {
        "colab": {
          "base_uri": "https://localhost:8080/"
        },
        "id": "jHcTMaw3UsK6",
        "outputId": "d6cdc1c9-4985-4b56-91af-219ee5dfa8f3"
      },
      "outputs": [
        {
          "output_type": "stream",
          "name": "stdout",
          "text": [
            "Looking in links: https://download.pytorch.org/whl/torch_stable.html\n",
            "Collecting torch==2.2.0+cu118\n",
            "  Downloading https://download.pytorch.org/whl/cu118/torch-2.2.0%2Bcu118-cp310-cp310-linux_x86_64.whl (811.7 MB)\n",
            "\u001b[2K     \u001b[90m━━━━━━━━━━━━━━━━━━━━━━━━━━━━━━━━━━━━━━━━\u001b[0m \u001b[32m811.7/811.7 MB\u001b[0m \u001b[31m2.1 MB/s\u001b[0m eta \u001b[36m0:00:00\u001b[0m\n",
            "\u001b[?25hRequirement already satisfied: filelock in /usr/local/lib/python3.10/dist-packages (from torch==2.2.0+cu118) (3.13.1)\n",
            "Requirement already satisfied: typing-extensions>=4.8.0 in /usr/local/lib/python3.10/dist-packages (from torch==2.2.0+cu118) (4.10.0)\n",
            "Requirement already satisfied: sympy in /usr/local/lib/python3.10/dist-packages (from torch==2.2.0+cu118) (1.12)\n",
            "Requirement already satisfied: networkx in /usr/local/lib/python3.10/dist-packages (from torch==2.2.0+cu118) (3.2.1)\n",
            "Requirement already satisfied: jinja2 in /usr/local/lib/python3.10/dist-packages (from torch==2.2.0+cu118) (3.1.3)\n",
            "Requirement already satisfied: fsspec in /usr/local/lib/python3.10/dist-packages (from torch==2.2.0+cu118) (2023.6.0)\n",
            "Collecting nvidia-cuda-nvrtc-cu11==11.8.89 (from torch==2.2.0+cu118)\n",
            "  Downloading nvidia_cuda_nvrtc_cu11-11.8.89-py3-none-manylinux1_x86_64.whl (23.2 MB)\n",
            "\u001b[2K     \u001b[90m━━━━━━━━━━━━━━━━━━━━━━━━━━━━━━━━━━━━━━━━\u001b[0m \u001b[32m23.2/23.2 MB\u001b[0m \u001b[31m61.1 MB/s\u001b[0m eta \u001b[36m0:00:00\u001b[0m\n",
            "\u001b[?25hCollecting nvidia-cuda-runtime-cu11==11.8.89 (from torch==2.2.0+cu118)\n",
            "  Downloading nvidia_cuda_runtime_cu11-11.8.89-py3-none-manylinux1_x86_64.whl (875 kB)\n",
            "\u001b[2K     \u001b[90m━━━━━━━━━━━━━━━━━━━━━━━━━━━━━━━━━━━━━━━━\u001b[0m \u001b[32m875.6/875.6 kB\u001b[0m \u001b[31m63.8 MB/s\u001b[0m eta \u001b[36m0:00:00\u001b[0m\n",
            "\u001b[?25hCollecting nvidia-cuda-cupti-cu11==11.8.87 (from torch==2.2.0+cu118)\n",
            "  Downloading nvidia_cuda_cupti_cu11-11.8.87-py3-none-manylinux1_x86_64.whl (13.1 MB)\n",
            "\u001b[2K     \u001b[90m━━━━━━━━━━━━━━━━━━━━━━━━━━━━━━━━━━━━━━━━\u001b[0m \u001b[32m13.1/13.1 MB\u001b[0m \u001b[31m83.3 MB/s\u001b[0m eta \u001b[36m0:00:00\u001b[0m\n",
            "\u001b[?25hCollecting nvidia-cudnn-cu11==8.7.0.84 (from torch==2.2.0+cu118)\n",
            "  Downloading nvidia_cudnn_cu11-8.7.0.84-py3-none-manylinux1_x86_64.whl (728.5 MB)\n",
            "\u001b[2K     \u001b[90m━━━━━━━━━━━━━━━━━━━━━━━━━━━━━━━━━━━━━━━━\u001b[0m \u001b[32m728.5/728.5 MB\u001b[0m \u001b[31m2.3 MB/s\u001b[0m eta \u001b[36m0:00:00\u001b[0m\n",
            "\u001b[?25hCollecting nvidia-cublas-cu11==11.11.3.6 (from torch==2.2.0+cu118)\n",
            "  Downloading nvidia_cublas_cu11-11.11.3.6-py3-none-manylinux1_x86_64.whl (417.9 MB)\n",
            "\u001b[2K     \u001b[90m━━━━━━━━━━━━━━━━━━━━━━━━━━━━━━━━━━━━━━━━\u001b[0m \u001b[32m417.9/417.9 MB\u001b[0m \u001b[31m3.1 MB/s\u001b[0m eta \u001b[36m0:00:00\u001b[0m\n",
            "\u001b[?25hCollecting nvidia-cufft-cu11==10.9.0.58 (from torch==2.2.0+cu118)\n",
            "  Downloading nvidia_cufft_cu11-10.9.0.58-py3-none-manylinux1_x86_64.whl (168.4 MB)\n",
            "\u001b[2K     \u001b[90m━━━━━━━━━━━━━━━━━━━━━━━━━━━━━━━━━━━━━━━━\u001b[0m \u001b[32m168.4/168.4 MB\u001b[0m \u001b[31m10.0 MB/s\u001b[0m eta \u001b[36m0:00:00\u001b[0m\n",
            "\u001b[?25hCollecting nvidia-curand-cu11==10.3.0.86 (from torch==2.2.0+cu118)\n",
            "  Downloading nvidia_curand_cu11-10.3.0.86-py3-none-manylinux1_x86_64.whl (58.1 MB)\n",
            "\u001b[2K     \u001b[90m━━━━━━━━━━━━━━━━━━━━━━━━━━━━━━━━━━━━━━━━\u001b[0m \u001b[32m58.1/58.1 MB\u001b[0m \u001b[31m24.6 MB/s\u001b[0m eta \u001b[36m0:00:00\u001b[0m\n",
            "\u001b[?25hCollecting nvidia-cusolver-cu11==11.4.1.48 (from torch==2.2.0+cu118)\n",
            "  Downloading nvidia_cusolver_cu11-11.4.1.48-py3-none-manylinux1_x86_64.whl (128.2 MB)\n",
            "\u001b[2K     \u001b[90m━━━━━━━━━━━━━━━━━━━━━━━━━━━━━━━━━━━━━━━━\u001b[0m \u001b[32m128.2/128.2 MB\u001b[0m \u001b[31m7.5 MB/s\u001b[0m eta \u001b[36m0:00:00\u001b[0m\n",
            "\u001b[?25hCollecting nvidia-cusparse-cu11==11.7.5.86 (from torch==2.2.0+cu118)\n",
            "  Downloading nvidia_cusparse_cu11-11.7.5.86-py3-none-manylinux1_x86_64.whl (204.1 MB)\n",
            "\u001b[2K     \u001b[90m━━━━━━━━━━━━━━━━━━━━━━━━━━━━━━━━━━━━━━━━\u001b[0m \u001b[32m204.1/204.1 MB\u001b[0m \u001b[31m3.7 MB/s\u001b[0m eta \u001b[36m0:00:00\u001b[0m\n",
            "\u001b[?25hCollecting nvidia-nccl-cu11==2.19.3 (from torch==2.2.0+cu118)\n",
            "  Downloading nvidia_nccl_cu11-2.19.3-py3-none-manylinux1_x86_64.whl (135.3 MB)\n",
            "\u001b[2K     \u001b[90m━━━━━━━━━━━━━━━━━━━━━━━━━━━━━━━━━━━━━━━━\u001b[0m \u001b[32m135.3/135.3 MB\u001b[0m \u001b[31m11.8 MB/s\u001b[0m eta \u001b[36m0:00:00\u001b[0m\n",
            "\u001b[?25hCollecting nvidia-nvtx-cu11==11.8.86 (from torch==2.2.0+cu118)\n",
            "  Downloading nvidia_nvtx_cu11-11.8.86-py3-none-manylinux1_x86_64.whl (99 kB)\n",
            "\u001b[2K     \u001b[90m━━━━━━━━━━━━━━━━━━━━━━━━━━━━━━━━━━━━━━━━\u001b[0m \u001b[32m99.1/99.1 kB\u001b[0m \u001b[31m15.2 MB/s\u001b[0m eta \u001b[36m0:00:00\u001b[0m\n",
            "\u001b[?25hRequirement already satisfied: triton==2.2.0 in /usr/local/lib/python3.10/dist-packages (from torch==2.2.0+cu118) (2.2.0)\n",
            "Requirement already satisfied: MarkupSafe>=2.0 in /usr/local/lib/python3.10/dist-packages (from jinja2->torch==2.2.0+cu118) (2.1.5)\n",
            "Requirement already satisfied: mpmath>=0.19 in /usr/local/lib/python3.10/dist-packages (from sympy->torch==2.2.0+cu118) (1.3.0)\n",
            "Installing collected packages: nvidia-nvtx-cu11, nvidia-nccl-cu11, nvidia-cusparse-cu11, nvidia-curand-cu11, nvidia-cufft-cu11, nvidia-cuda-runtime-cu11, nvidia-cuda-nvrtc-cu11, nvidia-cuda-cupti-cu11, nvidia-cublas-cu11, nvidia-cusolver-cu11, nvidia-cudnn-cu11, torch\n",
            "  Attempting uninstall: torch\n",
            "    Found existing installation: torch 2.2.1+cu121\n",
            "    Uninstalling torch-2.2.1+cu121:\n",
            "      Successfully uninstalled torch-2.2.1+cu121\n",
            "\u001b[31mERROR: pip's dependency resolver does not currently take into account all the packages that are installed. This behaviour is the source of the following dependency conflicts.\n",
            "torchaudio 2.2.1+cu121 requires torch==2.2.1, but you have torch 2.2.0+cu118 which is incompatible.\n",
            "torchtext 0.17.1 requires torch==2.2.1, but you have torch 2.2.0+cu118 which is incompatible.\n",
            "torchvision 0.17.1+cu121 requires torch==2.2.1, but you have torch 2.2.0+cu118 which is incompatible.\u001b[0m\u001b[31m\n",
            "\u001b[0mSuccessfully installed nvidia-cublas-cu11-11.11.3.6 nvidia-cuda-cupti-cu11-11.8.87 nvidia-cuda-nvrtc-cu11-11.8.89 nvidia-cuda-runtime-cu11-11.8.89 nvidia-cudnn-cu11-8.7.0.84 nvidia-cufft-cu11-10.9.0.58 nvidia-curand-cu11-10.3.0.86 nvidia-cusolver-cu11-11.4.1.48 nvidia-cusparse-cu11-11.7.5.86 nvidia-nccl-cu11-2.19.3 nvidia-nvtx-cu11-11.8.86 torch-2.2.0+cu118\n"
          ]
        }
      ],
      "source": [
        "!pip install torch==2.2.0+cu118 -f https://download.pytorch.org/whl/torch_stable.html\n"
      ]
    },
    {
      "cell_type": "code",
      "execution_count": null,
      "metadata": {
        "colab": {
          "base_uri": "https://localhost:8080/"
        },
        "id": "8QB_0MnzV6ja",
        "outputId": "7e4ef608-abe8-4a9d-f170-eb5b2f4682f3"
      },
      "outputs": [
        {
          "output_type": "stream",
          "name": "stdout",
          "text": [
            "Collecting torch-geometric==2.2.0\n",
            "  Downloading torch_geometric-2.2.0.tar.gz (564 kB)\n",
            "\u001b[?25l     \u001b[90m━━━━━━━━━━━━━━━━━━━━━━━━━━━━━━━━━━━━━━━━\u001b[0m \u001b[32m0.0/565.0 kB\u001b[0m \u001b[31m?\u001b[0m eta \u001b[36m-:--:--\u001b[0m\r\u001b[2K     \u001b[91m━━━━━━━━━━━━━━━━━━━━━━━━━━━━━━━━━━━━━━━\u001b[0m\u001b[91m╸\u001b[0m \u001b[32m563.2/565.0 kB\u001b[0m \u001b[31m17.3 MB/s\u001b[0m eta \u001b[36m0:00:01\u001b[0m\r\u001b[2K     \u001b[90m━━━━━━━━━━━━━━━━━━━━━━━━━━━━━━━━━━━━━━━━\u001b[0m \u001b[32m565.0/565.0 kB\u001b[0m \u001b[31m12.0 MB/s\u001b[0m eta \u001b[36m0:00:00\u001b[0m\n",
            "\u001b[?25h  Preparing metadata (setup.py) ... \u001b[?25l\u001b[?25hdone\n",
            "Requirement already satisfied: tqdm in /usr/local/lib/python3.10/dist-packages (from torch-geometric==2.2.0) (4.66.2)\n",
            "Requirement already satisfied: numpy in /usr/local/lib/python3.10/dist-packages (from torch-geometric==2.2.0) (1.25.2)\n",
            "Requirement already satisfied: scipy in /usr/local/lib/python3.10/dist-packages (from torch-geometric==2.2.0) (1.11.4)\n",
            "Requirement already satisfied: jinja2 in /usr/local/lib/python3.10/dist-packages (from torch-geometric==2.2.0) (3.1.3)\n",
            "Requirement already satisfied: requests in /usr/local/lib/python3.10/dist-packages (from torch-geometric==2.2.0) (2.31.0)\n",
            "Requirement already satisfied: pyparsing in /usr/local/lib/python3.10/dist-packages (from torch-geometric==2.2.0) (3.1.2)\n",
            "Requirement already satisfied: scikit-learn in /usr/local/lib/python3.10/dist-packages (from torch-geometric==2.2.0) (1.2.2)\n",
            "Requirement already satisfied: psutil>=5.8.0 in /usr/local/lib/python3.10/dist-packages (from torch-geometric==2.2.0) (5.9.5)\n",
            "Requirement already satisfied: MarkupSafe>=2.0 in /usr/local/lib/python3.10/dist-packages (from jinja2->torch-geometric==2.2.0) (2.1.5)\n",
            "Requirement already satisfied: charset-normalizer<4,>=2 in /usr/local/lib/python3.10/dist-packages (from requests->torch-geometric==2.2.0) (3.3.2)\n",
            "Requirement already satisfied: idna<4,>=2.5 in /usr/local/lib/python3.10/dist-packages (from requests->torch-geometric==2.2.0) (3.6)\n",
            "Requirement already satisfied: urllib3<3,>=1.21.1 in /usr/local/lib/python3.10/dist-packages (from requests->torch-geometric==2.2.0) (2.0.7)\n",
            "Requirement already satisfied: certifi>=2017.4.17 in /usr/local/lib/python3.10/dist-packages (from requests->torch-geometric==2.2.0) (2024.2.2)\n",
            "Requirement already satisfied: joblib>=1.1.1 in /usr/local/lib/python3.10/dist-packages (from scikit-learn->torch-geometric==2.2.0) (1.3.2)\n",
            "Requirement already satisfied: threadpoolctl>=2.0.0 in /usr/local/lib/python3.10/dist-packages (from scikit-learn->torch-geometric==2.2.0) (3.3.0)\n",
            "Building wheels for collected packages: torch-geometric\n",
            "  Building wheel for torch-geometric (setup.py) ... \u001b[?25l\u001b[?25hdone\n",
            "  Created wheel for torch-geometric: filename=torch_geometric-2.2.0-py3-none-any.whl size=773277 sha256=80b6a18d765bbf2abacad366d721e3c77dc7136841c0384972878b69a93f66ef\n",
            "  Stored in directory: /root/.cache/pip/wheels/c8/e4/83/5e964867e23f8a61cb8c5d5b9477617b710e96e6ebf1844562\n",
            "Successfully built torch-geometric\n",
            "Installing collected packages: torch-geometric\n",
            "Successfully installed torch-geometric-2.2.0\n"
          ]
        }
      ],
      "source": [
        "!pip install torch-geometric==2.2.0\n"
      ]
    },
    {
      "cell_type": "code",
      "execution_count": null,
      "metadata": {
        "colab": {
          "base_uri": "https://localhost:8080/"
        },
        "id": "i3dBvjOJXPXZ",
        "outputId": "826a0133-c90e-4444-c0ae-c2a66ed2e5a1"
      },
      "outputs": [
        {
          "output_type": "stream",
          "name": "stdout",
          "text": [
            "Looking in links: https://data.pyg.org/whl/torch-2.2.0+cu118.html\n",
            "Collecting torch-scatter\n",
            "  Downloading https://data.pyg.org/whl/torch-2.2.0%2Bcu118/torch_scatter-2.1.2%2Bpt22cu118-cp310-cp310-linux_x86_64.whl (10.2 MB)\n",
            "\u001b[2K     \u001b[90m━━━━━━━━━━━━━━━━━━━━━━━━━━━━━━━━━━━━━━━━\u001b[0m \u001b[32m10.2/10.2 MB\u001b[0m \u001b[31m98.8 MB/s\u001b[0m eta \u001b[36m0:00:00\u001b[0m\n",
            "\u001b[?25hCollecting torch-sparse\n",
            "  Downloading https://data.pyg.org/whl/torch-2.2.0%2Bcu118/torch_sparse-0.6.18%2Bpt22cu118-cp310-cp310-linux_x86_64.whl (4.9 MB)\n",
            "\u001b[2K     \u001b[90m━━━━━━━━━━━━━━━━━━━━━━━━━━━━━━━━━━━━━━━━\u001b[0m \u001b[32m4.9/4.9 MB\u001b[0m \u001b[31m101.6 MB/s\u001b[0m eta \u001b[36m0:00:00\u001b[0m\n",
            "\u001b[?25hCollecting torch-cluster\n",
            "  Downloading https://data.pyg.org/whl/torch-2.2.0%2Bcu118/torch_cluster-1.6.3%2Bpt22cu118-cp310-cp310-linux_x86_64.whl (3.4 MB)\n",
            "\u001b[2K     \u001b[90m━━━━━━━━━━━━━━━━━━━━━━━━━━━━━━━━━━━━━━━━\u001b[0m \u001b[32m3.4/3.4 MB\u001b[0m \u001b[31m110.1 MB/s\u001b[0m eta \u001b[36m0:00:00\u001b[0m\n",
            "\u001b[?25hCollecting torch-spline-conv\n",
            "  Downloading https://data.pyg.org/whl/torch-2.2.0%2Bcu118/torch_spline_conv-1.2.2%2Bpt22cu118-cp310-cp310-linux_x86_64.whl (899 kB)\n",
            "\u001b[2K     \u001b[90m━━━━━━━━━━━━━━━━━━━━━━━━━━━━━━━━━━━━━━━━\u001b[0m \u001b[32m899.2/899.2 kB\u001b[0m \u001b[31m72.9 MB/s\u001b[0m eta \u001b[36m0:00:00\u001b[0m\n",
            "\u001b[?25hRequirement already satisfied: scipy in /usr/local/lib/python3.10/dist-packages (from torch-sparse) (1.11.4)\n",
            "Requirement already satisfied: numpy<1.28.0,>=1.21.6 in /usr/local/lib/python3.10/dist-packages (from scipy->torch-sparse) (1.25.2)\n",
            "Installing collected packages: torch-spline-conv, torch-scatter, torch-sparse, torch-cluster\n",
            "Successfully installed torch-cluster-1.6.3+pt22cu118 torch-scatter-2.1.2+pt22cu118 torch-sparse-0.6.18+pt22cu118 torch-spline-conv-1.2.2+pt22cu118\n"
          ]
        }
      ],
      "source": [
        "!pip install torch-scatter torch-sparse torch-cluster torch-spline-conv -f https://data.pyg.org/whl/torch-2.2.0+cu118.html\n"
      ]
    },
    {
      "cell_type": "code",
      "execution_count": null,
      "metadata": {
        "colab": {
          "base_uri": "https://localhost:8080/"
        },
        "id": "ccjMZW5IWBus",
        "outputId": "c134fcd9-643c-4502-ddaf-58576050bbba"
      },
      "outputs": [
        {
          "output_type": "stream",
          "name": "stdout",
          "text": [
            "Collecting rdkit==2023.9.1\n",
            "  Downloading rdkit-2023.9.1-cp310-cp310-manylinux_2_17_x86_64.manylinux2014_x86_64.whl (30.5 MB)\n",
            "\u001b[2K     \u001b[90m━━━━━━━━━━━━━━━━━━━━━━━━━━━━━━━━━━━━━━━━\u001b[0m \u001b[32m30.5/30.5 MB\u001b[0m \u001b[31m42.9 MB/s\u001b[0m eta \u001b[36m0:00:00\u001b[0m\n",
            "\u001b[?25hRequirement already satisfied: numpy in /usr/local/lib/python3.10/dist-packages (from rdkit==2023.9.1) (1.25.2)\n",
            "Requirement already satisfied: Pillow in /usr/local/lib/python3.10/dist-packages (from rdkit==2023.9.1) (9.4.0)\n",
            "Installing collected packages: rdkit\n",
            "Successfully installed rdkit-2023.9.1\n"
          ]
        }
      ],
      "source": [
        "!pip install rdkit==2023.9.1"
      ]
    },
    {
      "cell_type": "code",
      "execution_count": null,
      "metadata": {
        "colab": {
          "base_uri": "https://localhost:8080/"
        },
        "id": "TtrZY6XKWIHo",
        "outputId": "a9595e91-71e9-4d38-faeb-dcb19e6d566e"
      },
      "outputs": [
        {
          "output_type": "stream",
          "name": "stdout",
          "text": [
            "Collecting bioPython==1.79\n",
            "  Downloading biopython-1.79-cp310-cp310-manylinux_2_17_x86_64.manylinux2014_x86_64.whl (2.7 MB)\n",
            "\u001b[?25l     \u001b[90m━━━━━━━━━━━━━━━━━━━━━━━━━━━━━━━━━━━━━━━━\u001b[0m \u001b[32m0.0/2.7 MB\u001b[0m \u001b[31m?\u001b[0m eta \u001b[36m-:--:--\u001b[0m\r\u001b[2K     \u001b[91m━━━━\u001b[0m\u001b[91m╸\u001b[0m\u001b[90m━━━━━━━━━━━━━━━━━━━━━━━━━━━━━━━━━━━\u001b[0m \u001b[32m0.3/2.7 MB\u001b[0m \u001b[31m9.9 MB/s\u001b[0m eta \u001b[36m0:00:01\u001b[0m\r\u001b[2K     \u001b[91m━━━━━━━━━━━━━━━━━━━━━━━━━━━━━━━━━━━━━━━\u001b[0m\u001b[91m╸\u001b[0m \u001b[32m2.7/2.7 MB\u001b[0m \u001b[31m41.6 MB/s\u001b[0m eta \u001b[36m0:00:01\u001b[0m\r\u001b[2K     \u001b[90m━━━━━━━━━━━━━━━━━━━━━━━━━━━━━━━━━━━━━━━━\u001b[0m \u001b[32m2.7/2.7 MB\u001b[0m \u001b[31m31.4 MB/s\u001b[0m eta \u001b[36m0:00:00\u001b[0m\n",
            "\u001b[?25hRequirement already satisfied: numpy in /usr/local/lib/python3.10/dist-packages (from bioPython==1.79) (1.25.2)\n",
            "Installing collected packages: bioPython\n",
            "Successfully installed bioPython-1.79\n"
          ]
        }
      ],
      "source": [
        "!pip install bioPython==1.79"
      ]
    },
    {
      "cell_type": "code",
      "execution_count": null,
      "metadata": {
        "colab": {
          "base_uri": "https://localhost:8080/"
        },
        "id": "LwT6dyWLgitQ",
        "outputId": "95b0a372-0d77-46ee-81ef-6c3b1d7870ff"
      },
      "outputs": [
        {
          "output_type": "stream",
          "name": "stdout",
          "text": [
            "Collecting lmdb\n",
            "  Downloading lmdb-1.4.1-cp310-cp310-manylinux_2_17_x86_64.manylinux2014_x86_64.whl (299 kB)\n",
            "\u001b[?25l     \u001b[90m━━━━━━━━━━━━━━━━━━━━━━━━━━━━━━━━━━━━━━━━\u001b[0m \u001b[32m0.0/299.2 kB\u001b[0m \u001b[31m?\u001b[0m eta \u001b[36m-:--:--\u001b[0m\r\u001b[2K     \u001b[91m━━━━━━━━━━━━━━━━━━━━━━━━━━━━━━━━━━━━━━━\u001b[0m\u001b[91m╸\u001b[0m \u001b[32m297.0/299.2 kB\u001b[0m \u001b[31m9.3 MB/s\u001b[0m eta \u001b[36m0:00:01\u001b[0m\r\u001b[2K     \u001b[90m━━━━━━━━━━━━━━━━━━━━━━━━━━━━━━━━━━━━━━━━\u001b[0m \u001b[32m299.2/299.2 kB\u001b[0m \u001b[31m7.2 MB/s\u001b[0m eta \u001b[36m0:00:00\u001b[0m\n",
            "\u001b[?25hInstalling collected packages: lmdb\n",
            "Successfully installed lmdb-1.4.1\n"
          ]
        }
      ],
      "source": [
        "!pip install lmdb"
      ]
    },
    {
      "cell_type": "code",
      "execution_count": null,
      "metadata": {
        "colab": {
          "base_uri": "https://localhost:8080/"
        },
        "id": "6KLlZA4yXF4x",
        "outputId": "ef4cae9b-1686-40e6-c0e1-07352653d2da"
      },
      "outputs": [
        {
          "output_type": "stream",
          "name": "stdout",
          "text": [
            "/content/Pocket2Mol\n"
          ]
        }
      ],
      "source": [
        "%cd Pocket2Mol/"
      ]
    },
    {
      "cell_type": "code",
      "execution_count": null,
      "metadata": {
        "colab": {
          "base_uri": "https://localhost:8080/"
        },
        "id": "EitrOp5MWPyJ",
        "outputId": "0ffae1da-f703-466f-d1db-2fefe81412da"
      },
      "outputs": [
        {
          "output_type": "stream",
          "name": "stdout",
          "text": [
            "[2024-03-21 13:14:20,097::sample::INFO] Namespace(pdb_path='./example/6eif.pdb', center=[7.8, 17.01, -47.09], bbox_size=23.0, config='./configs/sample_for_pdb.yml', device='cuda', outdir='./outputs')\n",
            "[2024-03-21 13:14:20,097::sample::INFO] {'model': {'checkpoint': './ckpt/pretrained_Pocket2Mol.pt'}, 'sample': {'seed': 2025, 'num_samples': 100, 'beam_size': 300, 'max_steps': 50, 'threshold': {'focal_threshold': 0.5, 'pos_threshold': 0.25, 'element_threshold': 0.3, 'hasatom_threshold': 0.6, 'bond_threshold': 0.4}}}\n",
            "[2024-03-21 13:14:20,099::sample::INFO] Loading data...\n",
            "[2024-03-21 13:14:20,639::sample::INFO] Loading main model...\n",
            "[2024-03-21 13:14:21,016::sample::INFO] Initialization\n",
            "InitSample:   0% 0/300 [00:00<?, ?it/s]/usr/local/lib/python3.10/dist-packages/numpy/core/fromnumeric.py:3504: RuntimeWarning: Mean of empty slice.\n",
            "  return _methods._mean(a, axis=axis, dtype=dtype,\n",
            "/usr/local/lib/python3.10/dist-packages/numpy/core/_methods.py:129: RuntimeWarning: invalid value encountered in divide\n",
            "  ret = ret.dtype.type(ret / rcount)\n",
            "InitSample:  13% 38/300 [00:01<00:10, 24.46it/s]\n",
            "[2024-03-21 13:14:22,571::sample::INFO] [Pool] Queue 38 | Finished 0 | Failed 0\n",
            "[2024-03-21 13:14:22,571::sample::INFO] Saving samples...\n",
            "[2024-03-21 13:14:22,672::sample::INFO] Start sampling\n",
            "  0% 0/38 [00:00<?, ?it/s]/usr/local/lib/python3.10/dist-packages/torch/functional.py:507: UserWarning: torch.meshgrid: in an upcoming release, it will be required to pass the indexing argument. (Triggered internally at ../aten/src/ATen/native/TensorShape.cpp:3549.)\n",
            "  return _VF.meshgrid(tensors, **kwargs)  # type: ignore[attr-defined]\n",
            "100% 38/38 [00:04<00:00,  8.47it/s]\n",
            "[2024-03-21 13:14:27,161::sample::INFO] [Pool] Queue 163 | Finished 0 | Failed 0\n",
            "100% 163/163 [00:23<00:00,  6.89it/s]\n",
            "[2024-03-21 13:14:51,351::sample::INFO] [Pool] Queue 300 | Finished 0 | Failed 0\n",
            "100% 300/300 [00:45<00:00,  6.55it/s]\n",
            "[2024-03-21 13:15:38,103::sample::INFO] [Pool] Queue 300 | Finished 0 | Failed 0\n",
            "100% 300/300 [00:50<00:00,  5.94it/s]\n",
            "[2024-03-21 13:16:29,610::sample::INFO] [Pool] Queue 300 | Finished 0 | Failed 0\n",
            "100% 300/300 [00:56<00:00,  5.30it/s]\n",
            "[2024-03-21 13:17:27,323::sample::INFO] [Pool] Queue 300 | Finished 0 | Failed 0\n",
            "100% 300/300 [01:00<00:00,  4.95it/s]\n",
            "[2024-03-21 13:18:29,015::sample::INFO] [Pool] Queue 300 | Finished 0 | Failed 0\n",
            "100% 300/300 [01:04<00:00,  4.69it/s]\n",
            "[2024-03-21 13:19:34,115::sample::INFO] [Pool] Queue 300 | Finished 0 | Failed 0\n",
            "100% 300/300 [01:06<00:00,  4.51it/s]\n",
            "[2024-03-21 13:20:41,685::sample::INFO] [Pool] Queue 300 | Finished 0 | Failed 0\n",
            "100% 300/300 [01:07<00:00,  4.43it/s]\n",
            "[2024-03-21 13:21:50,531::sample::INFO] [Pool] Queue 300 | Finished 0 | Failed 0\n",
            " 30% 91/300 [00:20<00:45,  4.60it/s]tensor([1.6947, 0.9687, 3.2045])\n",
            "100% 300/300 [01:09<00:00,  4.30it/s]\n",
            "[2024-03-21 13:23:01,456::sample::INFO] [Pool] Queue 300 | Finished 0 | Failed 0\n",
            " 50% 151/300 [00:35<00:28,  5.25it/s][2024-03-21 13:23:38,354::sample::INFO] Success: N=C1N=C=Nc2ccccc21\n",
            "100% 300/300 [01:08<00:00,  4.38it/s]\n",
            "[2024-03-21 13:24:11,064::sample::INFO] [Pool] Queue 300 | Finished 1 | Failed 0\n",
            "100% 300/300 [01:09<00:00,  4.34it/s]\n",
            "[2024-03-21 13:25:21,370::sample::INFO] [Pool] Queue 300 | Finished 1 | Failed 0\n",
            "  9% 28/300 [00:06<01:11,  3.79it/s][2024-03-21 13:25:29,498::sample::INFO] Success: c1cnc2nc3ccsc3cc2c1\n",
            "100% 300/300 [01:09<00:00,  4.30it/s]\n",
            "[2024-03-21 13:26:32,336::sample::INFO] [Pool] Queue 300 | Finished 2 | Failed 0\n",
            " 25% 74/300 [00:18<00:50,  4.50it/s][2024-03-21 13:26:51,830::sample::INFO] Success: Oc1ccc(-c2ccc(O)cc2)cc1\n",
            " 61% 183/300 [00:43<00:24,  4.85it/s][2024-03-21 13:27:17,378::sample::WARNING] Duplicate molecule: Oc1ccc(-c2ccc(O)cc2)cc1\n",
            " 64% 191/300 [00:45<00:25,  4.24it/s][2024-03-21 13:27:19,045::sample::INFO] Success: COc1nc(N)nc2ccnc(N)c12\n",
            " 91% 272/300 [01:01<00:06,  4.62it/s][2024-03-21 13:27:34,704::sample::INFO] Success: Nc1cc(-c2ccc(O)cc2)ccn1\n",
            "100% 300/300 [01:07<00:00,  4.42it/s]\n",
            "[2024-03-21 13:27:41,363::sample::INFO] [Pool] Queue 300 | Finished 5 | Failed 0\n",
            " 18% 54/300 [00:13<01:00,  4.08it/s][2024-03-21 13:27:56,207::sample::INFO] Success: c1ccc(-n2ccc3ncncc32)cc1\n",
            " 20% 61/300 [00:15<01:03,  3.78it/s][2024-03-21 13:27:57,865::sample::INFO] Success: N=C1N=C=Nc2c1ccc1ccccc21\n",
            " 28% 84/300 [00:20<00:49,  4.36it/s][2024-03-21 13:28:03,192::sample::INFO] Success: COc1cccc(-c2ccc(O)cc2)c1\n",
            " 82% 247/300 [00:58<00:12,  4.39it/s][2024-03-21 13:28:41,538::sample::WARNING] Duplicate molecule: N=C1N=C=Nc2c1ccc1ccccc21\n",
            "100% 300/300 [01:10<00:00,  4.29it/s]\n",
            "[2024-03-21 13:28:52,506::sample::INFO] [Pool] Queue 300 | Finished 8 | Failed 0\n",
            " 15% 45/300 [00:11<00:54,  4.72it/s][13:29:04] Explicit valence for atom # 6 N, 4, is greater than permitted\n",
            "[2024-03-21 13:29:04,698::sample::WARNING] Ignoring, because reconstruction error encountered.\n",
            " 65% 195/300 [00:45<00:24,  4.35it/s][2024-03-21 13:29:39,450::sample::INFO] Success: Cc1ccn2c(=O)c3cnccc3nc2c1\n",
            " 71% 214/300 [00:50<00:21,  4.08it/s][13:29:43] Explicit valence for atom # 13 F, 2, is greater than permitted\n",
            "[2024-03-21 13:29:43,788::sample::WARNING] Ignoring, because reconstruction error encountered.\n",
            "100% 300/300 [01:09<00:00,  4.29it/s]\n",
            "[2024-03-21 13:30:03,617::sample::INFO] [Pool] Queue 300 | Finished 9 | Failed 2\n",
            "  5% 14/300 [00:03<01:07,  4.25it/s][2024-03-21 13:30:08,256::sample::INFO] Success: N=C1N=C=Nc2c1ccc1c2ccc(=O)n1O\n",
            " 31% 92/300 [00:24<00:51,  4.05it/s][2024-03-21 13:30:29,250::sample::WARNING] Duplicate molecule: N=C1N=C=Nc2c1ccc1c2ccc(=O)n1O\n",
            " 43% 128/300 [00:31<00:38,  4.42it/s][2024-03-21 13:30:36,693::sample::INFO] Success: Cn1c(=O)c(O)cc2cc3cnccc3nc21\n",
            " 54% 163/300 [00:39<00:33,  4.06it/s][2024-03-21 13:30:44,689::sample::INFO] Success: COC(=O)c1cnc2ccc(C(N)=O)cc2c1\n",
            " 64% 192/300 [00:46<00:28,  3.79it/s][2024-03-21 13:30:51,129::sample::WARNING] Duplicate molecule: COC(=O)c1cnc2ccc(C(N)=O)cc2c1\n",
            " 85% 256/300 [01:01<00:10,  4.21it/s][2024-03-21 13:31:06,312::sample::INFO] Success: Nc1cc(-c2ccc3nc(N)[nH]c3c2)ccn1\n",
            " 97% 290/300 [01:09<00:02,  4.26it/s][2024-03-21 13:31:13,874::sample::WARNING] Duplicate molecule: COC(=O)c1cnc2ccc(C(N)=O)cc2c1\n",
            "[2024-03-21 13:31:13,937::sample::WARNING] Duplicate molecule: COC(=O)c1cnc2ccc(C(N)=O)cc2c1\n",
            "100% 300/300 [01:11<00:00,  4.21it/s]\n",
            "[2024-03-21 13:31:16,065::sample::INFO] [Pool] Queue 300 | Finished 13 | Failed 2\n",
            " 55% 164/300 [00:42<00:32,  4.22it/s][2024-03-21 13:31:59,335::sample::INFO] Success: Nc1nc2ccncc2cc1-c1ccccc1O\n",
            "100% 300/300 [01:15<00:00,  3.99it/s]\n",
            "[2024-03-21 13:32:32,520::sample::INFO] [Pool] Queue 300 | Finished 14 | Failed 2\n",
            "  4% 12/300 [00:03<01:28,  3.24it/s][2024-03-21 13:32:37,509::sample::INFO] Success: O=C1Cc2cnc3c(c2N1)=CN(C1CCCC1)CN=3\n",
            " 10% 30/300 [00:07<00:57,  4.69it/s][2024-03-21 13:32:41,574::sample::INFO] Success: CC(C)COc1cc(-c2cccc(O)c2)ccc1O\n",
            " 62% 187/300 [00:45<00:23,  4.83it/s][2024-03-21 13:33:19,164::sample::INFO] Success: O=C1CC(=O)c2cnc(NCCCCCO)cc2N1\n",
            "100% 300/300 [01:11<00:00,  4.19it/s]\n",
            "[2024-03-21 13:33:45,419::sample::INFO] [Pool] Queue 300 | Finished 17 | Failed 2\n",
            "  1% 4/300 [00:01<01:27,  3.37it/s][2024-03-21 13:33:47,786::sample::INFO] Success: O=C1N=C(c2ccccc2)C=C=C1C=C1C=CC=CC1\n",
            "  6% 18/300 [00:04<01:07,  4.15it/s][2024-03-21 13:33:51,103::sample::INFO] Success: O=C(O)CCOc1cc(-c2cccc(O)c2)ccc1O\n",
            " 14% 42/300 [00:10<01:19,  3.26it/s][2024-03-21 13:33:57,002::sample::WARNING] Duplicate molecule: O=C1N=C(c2ccccc2)C=C=C1C=C1C=CC=CC1\n",
            " 21% 62/300 [00:15<00:57,  4.13it/s][2024-03-21 13:34:02,363::sample::WARNING] Duplicate molecule: O=C(O)CCOc1cc(-c2cccc(O)c2)ccc1O\n",
            " 24% 71/300 [00:17<00:44,  5.11it/s][2024-03-21 13:34:04,083::sample::INFO] Success: CC(C)CNc1cc2nc(C3C=NN=C3)ccc2cn1\n",
            " 48% 144/300 [00:33<00:29,  5.34it/s][2024-03-21 13:34:20,210::sample::WARNING] Duplicate molecule: O=C(O)CCOc1cc(-c2cccc(O)c2)ccc1O\n",
            " 51% 153/300 [00:35<00:23,  6.15it/s][2024-03-21 13:34:21,837::sample::INFO] Success: CC(C)CNc1cc2nc(C3C=NCC3)ccc2cn1\n",
            " 71% 214/300 [00:50<00:27,  3.15it/s][2024-03-21 13:34:37,396::sample::WARNING] Duplicate molecule: CC(C)CNc1cc2nc(C3C=NCC3)ccc2cn1\n",
            "[2024-03-21 13:34:37,475::sample::WARNING] Duplicate molecule: O=C(O)CCOc1cc(-c2cccc(O)c2)ccc1O\n",
            "100% 300/300 [01:11<00:00,  4.22it/s]\n",
            "[2024-03-21 13:34:57,764::sample::INFO] [Pool] Queue 300 | Finished 21 | Failed 2\n",
            " 24% 72/300 [00:19<01:01,  3.69it/s][2024-03-21 13:35:18,098::sample::INFO] Success: c1ccc(-c2c[nH]c3ccc(-c4ccncc4)cc23)cc1\n",
            " 77% 232/300 [00:56<00:18,  3.65it/s][2024-03-21 13:35:55,176::sample::INFO] Success: CCn1c(=O)c2cnccc2n(C=C2C=CC=CC2)c1=O\n",
            "100% 300/300 [01:11<00:00,  4.21it/s]\n",
            "[2024-03-21 13:36:10,385::sample::INFO] [Pool] Queue 300 | Finished 23 | Failed 2\n",
            "  3% 9/300 [00:02<01:03,  4.60it/s][2024-03-21 13:36:14,061::sample::INFO] Success: CC(C)CNc1cc2nc(C3C(=O)NNC3=O)ccc2cn1\n",
            " 33% 98/300 [00:22<00:41,  4.90it/s][2024-03-21 13:36:33,998::sample::INFO] Success: O=C(O)CC(O)CN1CC(=O)n2cnc3cccc(c32)C1=O\n",
            " 34% 103/300 [00:22<00:32,  6.11it/s][2024-03-21 13:36:34,736::sample::INFO] Success: CCn1c(=O)c2cnccc2n(C=C2C=CC(=O)C=C2)c1=O\n",
            " 45% 134/300 [00:29<00:31,  5.35it/s][2024-03-21 13:36:40,861::sample::INFO] Success: COc1cc2ncc(-c3ccccc3O)cc2cc1C(N)=O\n",
            " 68% 205/300 [00:46<00:21,  4.32it/s][2024-03-21 13:36:58,114::sample::WARNING] Duplicate molecule: COc1cc2ncc(-c3ccccc3O)cc2cc1C(N)=O\n",
            " 87% 261/300 [00:59<00:07,  4.88it/s][2024-03-21 13:37:11,206::sample::WARNING] Duplicate molecule: CC(C)CNc1cc2nc(C3C(=O)NNC3=O)ccc2cn1\n",
            " 90% 270/300 [01:01<00:06,  4.84it/s][2024-03-21 13:37:12,913::sample::INFO] Success: O=C1CCC2CC=CC2OCC2OCC(OCCCN1)C2O\n",
            " 93% 278/300 [01:02<00:04,  4.57it/s][2024-03-21 13:37:14,572::sample::INFO] Success: CCn1c(=O)c2cnccc2n(C=C2C=CC(O)=CC2)c1=O\n",
            "100% 300/300 [01:07<00:00,  4.44it/s]\n",
            "[2024-03-21 13:37:19,340::sample::INFO] [Pool] Queue 300 | Finished 29 | Failed 2\n",
            " 16% 48/300 [00:11<01:02,  4.01it/s][2024-03-21 13:37:32,527::sample::INFO] Success: O=C1CCC2CC=CC2OCCC(O)C2=CC=C(CCN1)CO2\n",
            " 22% 65/300 [00:16<00:52,  4.49it/s][2024-03-21 13:37:36,548::sample::INFO] Success: CCn1c(=O)c2cnccc2n(C=C2C=CC(O)=C(O)C2)c1=O\n",
            " 28% 85/300 [00:20<00:44,  4.78it/s][2024-03-21 13:37:41,285::sample::INFO] Success: O=C(Nc1cc2nc3ccccc3cc2cn1)c1ccccc1\n",
            " 34% 103/300 [00:24<00:54,  3.65it/s][2024-03-21 13:37:45,248::sample::INFO] Success: O=C1N=CCC=C1CNC(=O)c1ccc(-c2ccccc2)nc1\n",
            " 45% 134/300 [00:31<00:29,  5.61it/s][2024-03-21 13:37:51,608::sample::WARNING] Duplicate molecule: O=C(Nc1cc2nc3ccccc3cc2cn1)c1ccccc1\n",
            " 53% 158/300 [00:36<00:29,  4.80it/s][2024-03-21 13:37:56,588::sample::INFO] Success: O=C1CCC2CC=CC2OCC2OCC(OCCCCN1)C2O\n",
            " 54% 162/300 [00:36<00:23,  5.88it/s][2024-03-21 13:37:57,212::sample::WARNING] Duplicate molecule: O=C(Nc1cc2nc3ccccc3cc2cn1)c1ccccc1\n",
            "[2024-03-21 13:37:57,277::sample::WARNING] Duplicate molecule: CCn1c(=O)c2cnccc2n(C=C2C=CC(O)=C(O)C2)c1=O\n",
            " 66% 199/300 [00:44<00:23,  4.37it/s][2024-03-21 13:38:05,256::sample::WARNING] Duplicate molecule: O=C(Nc1cc2nc3ccccc3cc2cn1)c1ccccc1\n",
            " 68% 205/300 [00:46<00:26,  3.63it/s][2024-03-21 13:38:06,574::sample::WARNING] Duplicate molecule: O=C(Nc1cc2nc3ccccc3cc2cn1)c1ccccc1\n",
            " 83% 248/300 [00:55<00:11,  4.42it/s][2024-03-21 13:38:15,708::sample::WARNING] Duplicate molecule: O=C(Nc1cc2nc3ccccc3cc2cn1)c1ccccc1\n",
            " 86% 257/300 [00:56<00:06,  6.52it/s][2024-03-21 13:38:17,296::sample::INFO] Success: CC1=CC=C(c2cnc(N)c3nc(NCC(C)C)c(C)nc23)C1\n",
            " 87% 260/300 [00:57<00:06,  5.96it/s][2024-03-21 13:38:17,810::sample::WARNING] Duplicate molecule: O=C1CCC2CC=CC2OCCC(O)C2=CC=C(CCN1)CO2\n",
            " 95% 284/300 [01:02<00:03,  4.16it/s][2024-03-21 13:38:23,187::sample::WARNING] Duplicate molecule: O=C(Nc1cc2nc3ccccc3cc2cn1)c1ccccc1\n",
            "100% 300/300 [01:05<00:00,  4.55it/s]\n",
            "[2024-03-21 13:38:26,435::sample::INFO] [Pool] Queue 300 | Finished 35 | Failed 2\n",
            "  0% 0/300 [00:00<?, ?it/s][2024-03-21 13:38:27,899::sample::INFO] Success: CCCn1c(=O)c2cnccc2n(C=C2C=CC(O)=C(O)C2)c1=O\n",
            "  4% 13/300 [00:03<01:14,  3.87it/s][2024-03-21 13:38:31,394::sample::INFO] Success: CC(C)COc1cc(-c2ccccc2OC2CCNC2)ccc1O\n",
            "  7% 21/300 [00:05<01:04,  4.36it/s][2024-03-21 13:38:32,996::sample::INFO] Success: O=C(O)C1=CC=C2Nc3cc(-c4ccccc4)ncc3C(=O)N2C1\n",
            "  8% 23/300 [00:05<00:47,  5.80it/s][2024-03-21 13:38:33,204::sample::INFO] Success: Nc1cc2c(cn1)C1CC(=O)C=C1C(=O)N2CCc1ccccc1\n",
            "[2024-03-21 13:38:33,270::sample::WARNING] Duplicate molecule: Nc1cc2c(cn1)C1CC(=O)C=C1C(=O)N2CCc1ccccc1\n",
            "  8% 25/300 [00:05<00:35,  7.67it/s][2024-03-21 13:38:33,336::sample::INFO] Success: Nc1cc2c(cn1)C1CC(=O)C=C1C(=O)N2CCc1ccncc1\n",
            " 11% 33/300 [00:07<00:53,  4.96it/s][2024-03-21 13:38:34,858::sample::INFO] Success: CC1=CC2C=Nc3ccc4ccn(c4c32)C2c3ccccc3CC12\n",
            " 16% 49/300 [00:10<00:49,  5.10it/s][2024-03-21 13:38:38,170::sample::INFO] Success: O=C(O)C1=CCc2cc3cc(-c4ccccc4)ncc3c(=O)n2C1\n",
            " 20% 59/300 [00:12<00:53,  4.46it/s][2024-03-21 13:38:40,298::sample::INFO] Success: Nc1cc(Nc2cccc(-c3cccc4ccccc34)c2)ccn1\n",
            " 23% 69/300 [00:14<00:54,  4.25it/s][2024-03-21 13:38:42,312::sample::INFO] Success: CC(C)COc1cc(-c2ccccc2OCC(O)CO)ccc1O\n",
            "[2024-03-21 13:38:42,377::sample::INFO] Success: O=C1C(CNCCc2ccccc2)=CC=C2C1=Nc1ccccc12\n",
            " 25% 76/300 [00:15<00:45,  4.94it/s][2024-03-21 13:38:43,453::sample::INFO] Success: O=C1CCC2CC=CC2OCCC(O)C2OCC(OC(=O)N1)C2O\n",
            " 31% 92/300 [00:19<00:43,  4.78it/s][2024-03-21 13:38:46,973::sample::INFO] Success: CC(C)COc1cc(-c2ccccc2OCCN(C)C)ccc1O\n",
            " 34% 101/300 [00:20<00:35,  5.63it/s][2024-03-21 13:38:48,432::sample::INFO] Success: OCCCOc1ccc2ncc3cc4cccc(O)c4cc3c2c1\n",
            " 36% 107/300 [00:21<00:35,  5.38it/s][2024-03-21 13:38:49,496::sample::WARNING] Duplicate molecule: O=C1C(CNCCc2ccccc2)=CC=C2C1=Nc1ccccc12\n",
            " 37% 110/300 [00:22<00:32,  5.94it/s][2024-03-21 13:38:49,939::sample::WARNING] Duplicate molecule: O=C(O)C1=CC=C2Nc3cc(-c4ccccc4)ncc3C(=O)N2C1\n",
            " 44% 131/300 [00:26<00:38,  4.36it/s][2024-03-21 13:38:54,086::sample::INFO] Success: O=C(O)C1=CC=C2Cc3cc(-c4ccccc4)ncc3C(=O)N2C1\n",
            " 46% 138/300 [00:27<00:39,  4.07it/s][2024-03-21 13:38:55,638::sample::WARNING] Duplicate molecule: CC(C)COc1cc(-c2ccccc2OCC(O)CO)ccc1O\n",
            " 51% 152/300 [00:30<00:31,  4.66it/s][2024-03-21 13:38:58,644::sample::WARNING] Duplicate molecule: O=C(O)C1=CC=C2Nc3cc(-c4ccccc4)ncc3C(=O)N2C1\n",
            " 62% 186/300 [00:37<00:22,  5.15it/s][2024-03-21 13:39:05,767::sample::WARNING] Duplicate molecule: O=C(O)C1=CC=C2Nc3cc(-c4ccccc4)ncc3C(=O)N2C1\n",
            " 68% 203/300 [00:41<00:21,  4.58it/s][2024-03-21 13:39:09,306::sample::WARNING] Duplicate molecule: O=C(O)C1=CC=C2Nc3cc(-c4ccccc4)ncc3C(=O)N2C1\n",
            "[2024-03-21 13:39:09,371::sample::WARNING] Duplicate molecule: CC(C)COc1cc(-c2ccccc2OC2CCNC2)ccc1O\n",
            " 74% 221/300 [00:44<00:15,  5.04it/s][2024-03-21 13:39:12,581::sample::INFO] Success: Cc1nc2c(-c3ccc(O)cc3)cnc(N)c2nc1NCC(C)C\n",
            " 75% 226/300 [00:45<00:15,  4.78it/s][2024-03-21 13:39:13,614::sample::INFO] Success: COCOc1ccc2ncc(-c3ccc(O)c(C(=O)O)c3)cc2c1\n",
            " 81% 242/300 [00:48<00:11,  5.14it/s][2024-03-21 13:39:16,682::sample::WARNING] Duplicate molecule: CC1=CC2C=Nc3ccc4ccn(c4c32)C2c3ccccc3CC12\n",
            " 97% 292/300 [00:59<00:01,  4.63it/s][13:39:26] Explicit valence for atom # 1 N, 4, is greater than permitted\n",
            "[2024-03-21 13:39:26,902::sample::WARNING] Ignoring, because reconstruction error encountered.\n",
            "100% 299/300 [01:00<00:00,  4.59it/s][2024-03-21 13:39:28,217::sample::INFO] Success: Cc1nc2c(-c3ccc(F)cc3)cnc(N)c2nc1NCC(C)C\n",
            "100% 300/300 [01:00<00:00,  4.96it/s]\n",
            "[2024-03-21 13:39:28,245::sample::INFO] [Pool] Queue 300 | Finished 52 | Failed 3\n",
            "  4% 12/300 [00:02<00:58,  4.94it/s][2024-03-21 13:39:32,144::sample::INFO] Success: N#Cc1cnc2nc3ncnc4c3c(c2c1)N=C(c1ccccc1)N4\n",
            "  6% 18/300 [00:03<00:48,  5.85it/s][2024-03-21 13:39:33,148::sample::INFO] Success: CC=CC=C1Nc2nccc3c2C1N=C(CCCC(=O)OC)C(=O)N3\n",
            " 10% 31/300 [00:06<00:55,  4.88it/s][2024-03-21 13:39:35,819::sample::INFO] Success: CC=CCOc1ccc2ncc(-c3ccc(O)c(C(=O)O)c3)cc2c1\n",
            " 14% 42/300 [00:08<00:57,  4.47it/s][2024-03-21 13:39:38,053::sample::INFO] Success: CC=CCCCC1=NC2C(=CC=C(C)C)Nc3nccc(c32)NC1=O\n",
            "[2024-03-21 13:39:38,119::sample::INFO] Success: CC=CCOc1cc(-c2cccc3c2OC(C(C)C)CO3)ccc1O\n",
            " 15% 46/300 [00:08<00:34,  7.35it/s][2024-03-21 13:39:38,418::sample::INFO] Success: O=C1C=CC(=CC2=C=CC(c3cccc4c3OCCO4)=NC2=O)C=C1\n",
            " 23% 70/300 [00:13<00:52,  4.38it/s][2024-03-21 13:39:43,478::sample::INFO] Success: CC1=C2C=CN3C(=O)c4ccc(C#N)cc4N4C=CC(C(N)=C1)C2=C34\n",
            " 28% 84/300 [00:16<00:40,  5.33it/s][2024-03-21 13:39:46,116::sample::INFO] Success: Cc1ccc2c3c1OCCNc1ccccc1-c1ccc(c-3c1)OC2\n",
            " 33% 99/300 [00:19<00:38,  5.21it/s][2024-03-21 13:39:49,046::sample::INFO] Success: COc1cccc(C2=NC(=O)C(C=C3C=CC(=O)C=C3)=C=C2)c1OC\n",
            " 35% 104/300 [00:20<00:38,  5.12it/s][2024-03-21 13:39:50,008::sample::INFO] Success: O=C1CCC2CC=CC2OCC2OC3COC(CCCN1)OC3C2O\n",
            " 36% 109/300 [00:21<00:34,  5.54it/s][2024-03-21 13:39:50,802::sample::INFO] Success: CC(C)(C)CNc1nc2c(N)ncc(C3=CC=NC3)c2nc1C(=O)O\n",
            " 44% 132/300 [00:26<00:46,  3.60it/s][2024-03-21 13:39:56,156::sample::WARNING] Duplicate molecule: CC(C)(C)CNc1nc2c(N)ncc(C3=CC=NC3)c2nc1C(=O)O\n",
            " 46% 139/300 [00:27<00:29,  5.44it/s][2024-03-21 13:39:57,307::sample::INFO] Success: Nc1cc2c(cn1)cc(C(=O)O)c(=O)n2Cc1ccc(CO)c(F)c1\n",
            " 53% 158/300 [00:31<00:31,  4.49it/s][2024-03-21 13:40:01,275::sample::INFO] Success: C1=Nc2ccc3ccn(Cc4ccccc4)c3c2C1c1ccccc1\n",
            " 53% 160/300 [00:32<00:30,  4.59it/s][2024-03-21 13:40:01,694::sample::WARNING] Duplicate molecule: O=C1C=CC(=CC2=C=CC(c3cccc4c3OCCO4)=NC2=O)C=C1\n",
            " 60% 180/300 [00:37<00:34,  3.46it/s][2024-03-21 13:40:06,883::sample::WARNING] Duplicate molecule: O=C1C=CC(=CC2=C=CC(c3cccc4c3OCCO4)=NC2=O)C=C1\n",
            " 63% 190/300 [00:39<00:25,  4.30it/s][2024-03-21 13:40:09,145::sample::WARNING] Duplicate molecule: O=C1CCC2CC=CC2OCC2OC3COC(CCCN1)OC3C2O\n",
            " 71% 212/300 [00:44<00:22,  3.96it/s][2024-03-21 13:40:14,663::sample::INFO] Success: Nc1cc2c(cn1)C1CC(=O)C=C1C(=O)N2CCc1ccccc1O\n",
            "[2024-03-21 13:40:14,744::sample::WARNING] Duplicate molecule: Nc1cc2c(cn1)C1CC(=O)C=C1C(=O)N2CCc1ccccc1O\n",
            " 73% 219/300 [00:46<00:16,  4.89it/s][2024-03-21 13:40:15,890::sample::INFO] Success: CCOc1cc(-c2cccc3c2OC(C2CCCN2)CO3)ccc1O\n",
            " 85% 256/300 [00:54<00:11,  3.67it/s][2024-03-21 13:40:23,985::sample::INFO] Success: CCC1c2ccccc2C2C1C=CC1C=Nc3ccc4ccn2c4c31\n",
            " 89% 267/300 [00:56<00:06,  5.03it/s][2024-03-21 13:40:26,329::sample::WARNING] Duplicate molecule: O=C1CCC2CC=CC2OCC2OC3COC(CCCN1)OC3C2O\n",
            " 93% 280/300 [00:58<00:03,  5.25it/s][2024-03-21 13:40:28,647::sample::WARNING] Duplicate molecule: C1=Nc2ccc3ccn(Cc4ccccc4)c3c2C1c1ccccc1\n",
            " 95% 284/300 [00:59<00:02,  6.06it/s][2024-03-21 13:40:29,274::sample::WARNING] Duplicate molecule: Nc1cc2c(cn1)cc(C(=O)O)c(=O)n2Cc1ccc(CO)c(F)c1\n",
            " 96% 289/300 [01:00<00:02,  5.43it/s][2024-03-21 13:40:30,260::sample::INFO] Success: O=C1C2C3=CC=NC3=Cc3ncn(c32)C(=O)CN1c1ccccc1O\n",
            "100% 300/300 [01:03<00:00,  4.75it/s]\n",
            "[2024-03-21 13:40:32,789::sample::INFO] [Pool] Queue 300 | Finished 69 | Failed 3\n",
            "  3% 9/300 [00:02<01:17,  3.75it/s][2024-03-21 13:40:37,006::sample::INFO] Success: CCOc1cc(-c2cccc3c2OC(C2CCCN2C)CO3)ccc1O\n",
            "[2024-03-21 13:40:37,077::sample::INFO] Success: CC=CCOc1cc(-c2cc(O)ccc2OCC(O)C(O)O)ccc1O\n",
            "  4% 13/300 [00:03<01:01,  4.67it/s][2024-03-21 13:40:37,675::sample::INFO] Success: COc1cc(O)c2oc3c(c2c1)-c1cc(-c2ccccc2)cnc1NC3\n",
            "  7% 21/300 [00:04<00:50,  5.58it/s][2024-03-21 13:40:39,080::sample::INFO] Success: O=C(O)CCOc1cc(-c2cc(O)ccc2OC2CCNC2)ccc1O\n",
            "  9% 28/300 [00:06<01:02,  4.37it/s][2024-03-21 13:40:40,689::sample::INFO] Success: N#Cc1ccc2c(c1)N1C=CC3C=CC(C(=O)O)=C4C=CN(C2=O)C1=C43\n",
            " 18% 55/300 [00:12<00:54,  4.51it/s][2024-03-21 13:40:46,389::sample::INFO] Success: c1cc(Nc2cc3nc4ccccc4cc3cn2)cc(-c2ncc[nH]2)c1\n",
            " 26% 79/300 [00:17<00:47,  4.68it/s][2024-03-21 13:40:51,846::sample::INFO] Success: O=C1CCCC2=NC3C(=CC=CCCCO1)Nc1nccc(c13)NC2=O\n",
            " 33% 98/300 [00:21<00:55,  3.67it/s][2024-03-21 13:40:56,189::sample::INFO] Success: Nc1cc2c(cn1)C1CC(=O)C=C1C(=O)N2CCc1cccnc1CO\n",
            " 34% 102/300 [00:22<00:43,  4.58it/s][2024-03-21 13:40:56,930::sample::WARNING] Duplicate molecule: N#Cc1ccc2c(c1)N1C=CC3C=CC(C(=O)O)=C4C=CN(C2=O)C1=C43\n",
            " 41% 123/300 [00:26<00:35,  5.03it/s][2024-03-21 13:41:01,077::sample::INFO] Success: CC1=C2C=CN3C(=O)c4ccc(C(=O)O)cc4N4C=CC(C(N)=C1)C2=C34\n",
            " 50% 150/300 [00:32<00:31,  4.77it/s][2024-03-21 13:41:06,340::sample::INFO] Success: O=C(NCCO)c1cnc2ncnc(-n3ccc4cccc(F)c43)c2c1\n",
            " 52% 155/300 [00:32<00:25,  5.64it/s][2024-03-21 13:41:07,160::sample::INFO] Success: NC(=O)C1COc2c(ccc3ncc4cc5cccc(O)c5cc4c23)O1\n",
            " 62% 187/300 [00:39<00:22,  4.93it/s][2024-03-21 13:41:13,525::sample::WARNING] Duplicate molecule: CCOc1cc(-c2cccc3c2OC(C2CCCN2C)CO3)ccc1O\n",
            " 65% 194/300 [00:40<00:20,  5.15it/s][2024-03-21 13:41:14,804::sample::WARNING] Duplicate molecule: O=C1CCCC2=NC3C(=CC=CCCCO1)Nc1nccc(c13)NC2=O\n",
            " 67% 202/300 [00:42<00:20,  4.81it/s][2024-03-21 13:41:16,362::sample::INFO] Success: O=C(O)C1c2ccccc2C2C1C=CC1C=Nc3ccc4ccn2c4c31\n",
            " 69% 206/300 [00:42<00:19,  4.94it/s][2024-03-21 13:41:17,158::sample::INFO] Success: O=C(O)C1CCc2c(ccc3ncc4cc5cccc(O)c5cc4c23)O1\n",
            " 71% 213/300 [00:44<00:17,  5.03it/s][2024-03-21 13:41:18,516::sample::WARNING] Duplicate molecule: CCOc1cc(-c2cccc3c2OC(C2CCCN2C)CO3)ccc1O\n",
            " 77% 231/300 [00:48<00:13,  5.26it/s][2024-03-21 13:41:22,385::sample::INFO] Success: O=C(O)C1COc2c(ccc3ncc4cc5cccc(O)c5cc4c23)O1\n",
            " 78% 235/300 [00:48<00:10,  5.98it/s][2024-03-21 13:41:22,999::sample::WARNING] Duplicate molecule: O=C1CCCC2=NC3C(=CC=CCCCO1)Nc1nccc(c13)NC2=O\n",
            " 83% 250/300 [00:51<00:10,  4.90it/s][2024-03-21 13:41:25,457::sample::WARNING] Duplicate molecule: N#Cc1ccc2c(c1)N1C=CC3C=CC(C(=O)O)=C4C=CN(C2=O)C1=C43\n",
            " 94% 282/300 [00:56<00:02,  6.09it/s][2024-03-21 13:41:31,153::sample::WARNING] Duplicate molecule: O=C1CCCC2=NC3C(=CC=CCCCO1)Nc1nccc(c13)NC2=O\n",
            " 95% 284/300 [00:56<00:02,  7.89it/s][2024-03-21 13:41:31,320::sample::INFO] Success: C1=Nc2ccc3ccn4c3c2C1C=C1CCCC2c3ccccc3C4C12\n",
            " 98% 295/300 [00:59<00:00,  5.21it/s][2024-03-21 13:41:33,400::sample::WARNING] Duplicate molecule: O=C(O)C1COc2c(ccc3ncc4cc5cccc(O)c5cc4c23)O1\n",
            "100% 300/300 [00:59<00:00,  5.01it/s]\n",
            "[2024-03-21 13:41:34,203::sample::INFO] [Pool] Queue 300 | Finished 84 | Failed 3\n",
            "  2% 5/300 [00:01<01:00,  4.86it/s][2024-03-21 13:41:36,948::sample::INFO] Success: O=C(O)C1=C2C=CN3C(=O)c4ccc(C(=O)O)cc4N4C=CC(C=C1)C2=C34\n",
            "  3% 10/300 [00:01<00:52,  5.56it/s][2024-03-21 13:41:37,792::sample::INFO] Success: COc1cccc(-c2cnc3c(c2)-c2c(oc4ccc(OC)cc24)CN3)c1\n",
            "  9% 28/300 [00:05<01:00,  4.51it/s][2024-03-21 13:41:41,467::sample::INFO] Success: COc1ccc2c3c4c(cc2n1)ncn4C(=O)CN(c1ccccc1)C3=O\n",
            " 20% 59/300 [00:13<00:39,  6.11it/s][2024-03-21 13:41:48,831::sample::WARNING] Duplicate molecule: O=C(O)C1=C2C=CN3C(=O)c4ccc(C(=O)O)cc4N4C=CC(C=C1)C2=C34\n",
            " 22% 65/300 [00:14<00:55,  4.27it/s][2024-03-21 13:41:50,317::sample::INFO] Success: COc1ccc(O)c2ccc3ccc(Nc4ccc(C(=O)O)cc4)cc3c12\n",
            " 24% 72/300 [00:15<00:45,  5.06it/s][2024-03-21 13:41:51,514::sample::INFO] Success: O=C1COC(CNC(=O)c2ccc3ncc(-c4ccccc4O)cc3c2)C1\n",
            " 28% 85/300 [00:18<00:57,  3.74it/s][13:41:54] Explicit valence for atom # 14 O, 3, is greater than permitted\n",
            "[2024-03-21 13:41:54,312::sample::WARNING] Ignoring, because reconstruction error encountered.\n",
            " 29% 87/300 [00:18<00:49,  4.27it/s][2024-03-21 13:41:54,707::sample::INFO] Success: O=C1C(CNCc2cccc3ccccc23)=CC=C2C1=Nc1ccccc12\n",
            " 31% 92/300 [00:19<00:47,  4.36it/s][2024-03-21 13:41:55,785::sample::INFO] Success: Cc1cc(CN2CCNCC2)cc(Oc2cc3ccccc3cc2O)c1F\n",
            " 32% 95/300 [00:20<00:45,  4.54it/s][2024-03-21 13:41:56,368::sample::WARNING] Duplicate molecule: Cc1cc(CN2CCNCC2)cc(Oc2cc3ccccc3cc2O)c1F\n",
            " 40% 119/300 [00:26<00:47,  3.79it/s][2024-03-21 13:42:02,007::sample::WARNING] Duplicate molecule: COc1ccc2c3c4c(cc2n1)ncn4C(=O)CN(c1ccccc1)C3=O\n",
            " 46% 139/300 [00:30<00:31,  5.06it/s][2024-03-21 13:42:06,379::sample::INFO] Success: Cc1c[nH]c(-c2cccc(Nc3cc4nc5ccccc5cc4cn3)c2)n1\n",
            " 47% 142/300 [00:31<00:27,  5.75it/s][2024-03-21 13:42:06,857::sample::WARNING] Duplicate molecule: COc1ccc2c3c4c(cc2n1)ncn4C(=O)CN(c1ccccc1)C3=O\n",
            " 48% 145/300 [00:31<00:31,  4.92it/s][2024-03-21 13:42:07,512::sample::INFO] Success: COCCOc1ccc2ncc(-c3ccc(O)c(CCC(=O)O)c3)cc2c1\n",
            " 50% 151/300 [00:32<00:28,  5.20it/s][2024-03-21 13:42:08,558::sample::INFO] Success: CC(C)COc1cc(-c2cc(O)cc(O)c2OC2CCCCC2)ccc1O\n",
            "[2024-03-21 13:42:08,624::sample::WARNING] Duplicate molecule: COc1cccc(-c2cnc3c(c2)-c2c(oc4ccc(OC)cc24)CN3)c1\n",
            " 52% 155/300 [00:33<00:35,  4.09it/s][2024-03-21 13:42:09,408::sample::WARNING] Duplicate molecule: Cc1c[nH]c(-c2cccc(Nc3cc4nc5ccccc5cc4cn3)c2)n1\n",
            " 57% 172/300 [00:36<00:19,  6.55it/s][2024-03-21 13:42:12,241::sample::INFO] Success: OC1NCC2=CC3C=Nc4ccc5ccn(c5c43)C3c4ccccc4C1C23\n",
            " 59% 177/300 [00:37<00:22,  5.45it/s][2024-03-21 13:42:13,244::sample::INFO] Success: O=C(O)CNC(=O)c1cnc2ncnc(-n3ccc4cccc(F)c43)c2c1\n",
            "[2024-03-21 13:42:13,311::sample::INFO] Success: O=C1NCC2=CC3C=Nc4ccc5ccn(c5c43)C3c4ccccc4C1C23\n",
            " 60% 179/300 [00:37<00:15,  7.58it/s][2024-03-21 13:42:13,377::sample::INFO] Success: O=C1CCCC2=NC3C(=CC4=CCC(CO1)C4)Nc1nccc(c13)NC2=O\n",
            " 61% 183/300 [00:38<00:20,  5.62it/s][2024-03-21 13:42:14,175::sample::INFO] Success: CC(C)COc1cc(-c2ccccc2OCCC=CCN(C)C)ccc1O\n",
            " 62% 185/300 [00:38<00:18,  6.08it/s][2024-03-21 13:42:14,463::sample::INFO] Success: N#Cc1ccc2c(c1)N1C=CC3C(O)=CC(C(=O)O)=C4C=CN(C2=O)C1=C43\n",
            " 65% 195/300 [00:40<00:15,  6.57it/s][2024-03-21 13:42:16,175::sample::INFO] Success: O=C(O)c1cc(-c2cnc3ccc(Oc4ccccc4)cc3c2)ccc1O\n",
            " 66% 199/300 [00:40<00:16,  6.19it/s][2024-03-21 13:42:16,776::sample::INFO] Success: CC1NCC2=CC3C=Nc4ccc5ccn(c5c43)C3c4ccccc4C1C23\n",
            " 70% 209/300 [00:42<00:18,  4.79it/s][2024-03-21 13:42:18,764::sample::WARNING] Duplicate molecule: Cc1c[nH]c(-c2cccc(Nc3cc4nc5ccccc5cc4cn3)c2)n1\n",
            " 70% 211/300 [00:43<00:14,  6.22it/s][2024-03-21 13:42:18,969::sample::INFO] Success: O=C(O)CCc1cc(-c2cnc3ccc(OC(F)(F)F)cc3c2)ccc1O\n",
            " 74% 221/300 [00:44<00:15,  5.12it/s][2024-03-21 13:42:20,782::sample::WARNING] Duplicate molecule: O=C1CCCC2=NC3C(=CC4=CCC(CO1)C4)Nc1nccc(c13)NC2=O\n",
            " 77% 230/300 [00:46<00:12,  5.48it/s][2024-03-21 13:42:22,515::sample::INFO] Success: COc1cccc(-c2cnc3ccc(C(=O)N4CCCCC4)cc3c2)c1O\n",
            " 78% 235/300 [00:47<00:10,  6.12it/s][2024-03-21 13:42:23,222::sample::WARNING] Duplicate molecule: O=C(O)C1=C2C=CN3C(=O)c4ccc(C(=O)O)cc4N4C=CC(C=C1)C2=C34\n",
            " 80% 241/300 [00:48<00:09,  6.04it/s][2024-03-21 13:42:24,138::sample::WARNING] Duplicate molecule: COc1ccc(O)c2ccc3ccc(Nc4ccc(C(=O)O)cc4)cc3c12\n",
            " 87% 260/300 [00:52<00:08,  4.79it/s][2024-03-21 13:42:28,174::sample::WARNING] Duplicate molecule: O=C1NCC2=CC3C=Nc4ccc5ccn(c5c43)C3c4ccccc4C1C23\n",
            "[2024-03-21 13:42:28,240::sample::WARNING] Duplicate molecule: COc1ccc2c3c4c(cc2n1)ncn4C(=O)CN(c1ccccc1)C3=O\n",
            " 94% 281/300 [00:56<00:04,  4.65it/s][2024-03-21 13:42:32,248::sample::INFO] Success: O=C1CCCCC2=NC3C(=Cc4csc(c4)O1)Nc1nccc(c13)NC2=O\n",
            " 94% 283/300 [00:56<00:03,  4.43it/s][2024-03-21 13:42:32,725::sample::WARNING] Duplicate molecule: CC(C)COc1cc(-c2cc(O)cc(O)c2OC2CCCCC2)ccc1O\n",
            " 95% 285/300 [00:57<00:02,  5.38it/s][2024-03-21 13:42:32,975::sample::WARNING] Duplicate molecule: N#Cc1ccc2c(c1)N1C=CC3C(O)=CC(C(=O)O)=C4C=CN(C2=O)C1=C43\n",
            " 98% 295/300 [00:59<00:01,  4.32it/s][2024-03-21 13:42:35,218::sample::WARNING] Duplicate molecule: COc1cccc(-c2cnc3c(c2)-c2c(oc4ccc(OC)cc24)CN3)c1\n",
            "100% 300/300 [01:00<00:00,  4.99it/s]\n",
            "[2024-03-21 13:42:35,901::sample::INFO] [Pool] Queue 300 | Finished 105 | Failed 4\n"
          ]
        }
      ],
      "source": [
        "!python sample_for_pdb.py --pdb_path ./example/6eif.pdb --center \"7.80, 17.01, -47.09\"\n"
      ]
    },
    {
      "cell_type": "code",
      "execution_count": null,
      "metadata": {
        "id": "uPstatsHqzxQ"
      },
      "outputs": [],
      "source": [
        "!cp -r /content/Pocket2Mol/outputs/sample_for_pdb_6eif.pdb_2024_03_21__13_14_20/SDF /content/drive/MyDrive/pocket6/\n"
      ]
    },
    {
      "cell_type": "code",
      "source": [],
      "metadata": {
        "id": "2OmnhYDOnRnO"
      },
      "execution_count": null,
      "outputs": []
    }
  ],
  "metadata": {
    "accelerator": "GPU",
    "colab": {
      "gpuType": "T4",
      "machine_shape": "hm",
      "provenance": []
    },
    "kernelspec": {
      "display_name": "Python 3",
      "name": "python3"
    },
    "language_info": {
      "name": "python"
    }
  },
  "nbformat": 4,
  "nbformat_minor": 0
}