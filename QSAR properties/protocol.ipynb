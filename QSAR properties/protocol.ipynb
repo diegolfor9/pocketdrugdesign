{
  "nbformat": 4,
  "nbformat_minor": 0,
  "metadata": {
    "colab": {
      "provenance": []
    },
    "kernelspec": {
      "name": "python3",
      "display_name": "Python 3"
    },
    "language_info": {
      "name": "python"
    }
  },
  "cells": [
    {
      "cell_type": "markdown",
      "source": [
        "**1. Load the molecules and combined them**"
      ],
      "metadata": {
        "id": "F0JIhHUQU_sj"
      }
    },
    {
      "cell_type": "code",
      "execution_count": null,
      "metadata": {
        "colab": {
          "base_uri": "https://localhost:8080/"
        },
        "id": "9nBzitx6TqRL",
        "outputId": "b064bdd7-a695-46af-c63d-b8d6da0fcb56"
      },
      "outputs": [
        {
          "output_type": "stream",
          "name": "stdout",
          "text": [
            "Number of initial molecules : 2249\n",
            "Distribution of molecules passing all filters by model:\n",
            "Model\n",
            "Lingo3DMol    600\n",
            "Pocket2Mol    562\n",
            "RGA           416\n",
            "DrugGPT       400\n",
            "DiffSBDD      271\n",
            "Name: count, dtype: int64\n"
          ]
        }
      ],
      "source": [
        "# Import necessary libraries\n",
        "import pandas as pd\n",
        "\n",
        "# Define paths to the files and their corresponding model names\n",
        "files_and_models = {\n",
        "    'all_predictions_pocket_tox_docking.csv': 'Pocket2Mol',\n",
        "    'all_predictions_drug_tox_docking.csv': 'DrugGPT',\n",
        "    'all_predictions_diff_tox_docking.csv': 'DiffSBDD',\n",
        "    '600_predictions_lingo_tox_docking.csv': 'Lingo3DMol',\n",
        "    'all_predictions_rga_tox_docking.csv': 'RGA'\n",
        "}\n",
        "\n",
        "# Load data and add a 'Model' column\n",
        "def load_data(file_path, model_name):\n",
        "    df = pd.read_csv(file_path)\n",
        "    df['Model'] = model_name  # Add a column with the model name\n",
        "    return df\n",
        "\n",
        "# Use a dictionary comprehension to load all data and label it by model\n",
        "data_frames = {model: load_data(file, model) for file, model in files_and_models.items()}\n",
        "\n",
        "# Combine all DataFrames into one\n",
        "combined_df = pd.concat(data_frames.values(), ignore_index=True)\n",
        "print(f\"Number of initial molecules : {len(combined_df)}\")\n",
        "# Calculate the distribution of molecules passing all filters using the 'Model' column\n",
        "distribution_by_model = combined_df['Model'].value_counts()\n",
        "\n",
        "# Print the distribution\n",
        "print(\"Distribution of molecules passing all filters by model:\")\n",
        "print(distribution_by_model)\n"
      ]
    },
    {
      "cell_type": "markdown",
      "source": [
        "**2. Toxicity filter**"
      ],
      "metadata": {
        "id": "Y6eDHjA7VHVp"
      }
    },
    {
      "cell_type": "code",
      "source": [
        "# List of specific toxicity columns provided\n",
        "columnas_toxicidad = [\n",
        "    'NR-AR', 'NR-AR-LBD', 'NR-AhR', 'NR-Aromatase', 'NR-ER', 'NR-ER-LBD',\n",
        "    'NR-PPAR-gamma', 'SR-ARE', 'SR-ATAD5', 'SR-HSE', 'SR-MMP', 'SR-p53'\n",
        "]\n",
        "\n",
        "# Filter the DataFrame: Keep rows where all toxicity values are less than 0.5\n",
        "filtered_df = combined_df[combined_df[columnas_toxicidad].lt(0.5).all(axis=1)]\n",
        "\n",
        "# Print the number of molecules remaining after applying the toxicity filter\n",
        "print(f\"Number of molecules remaining after toxicity filter: {len(filtered_df)}\")\n",
        "# Calculate the distribution of molecules passing all filters using the 'Model' column\n",
        "distribution_by_model = filtered_df['Model'].value_counts()\n",
        "\n",
        "# Print the distribution\n",
        "print(\"Distribution of molecules passing all filters by model:\")\n",
        "print(distribution_by_model)\n"
      ],
      "metadata": {
        "colab": {
          "base_uri": "https://localhost:8080/"
        },
        "id": "KaKCL33BU7AO",
        "outputId": "fc28a7dd-b969-4254-99c4-b8432b919391"
      },
      "execution_count": null,
      "outputs": [
        {
          "output_type": "stream",
          "name": "stdout",
          "text": [
            "Number of molecules remaining after toxicity filter: 762\n",
            "Distribution of molecules passing all filters by model:\n",
            "Model\n",
            "DiffSBDD      200\n",
            "Lingo3DMol    171\n",
            "Pocket2Mol    168\n",
            "DrugGPT       162\n",
            "RGA            61\n",
            "Name: count, dtype: int64\n"
          ]
        }
      ]
    },
    {
      "cell_type": "markdown",
      "source": [
        "**3. QED filter**"
      ],
      "metadata": {
        "id": "ZKKFkHCeV3GM"
      }
    },
    {
      "cell_type": "code",
      "source": [
        "# Filter the DataFrame to include only rows where QED > 0.5\n",
        "filtered_df = filtered_df[filtered_df['QED'] > 0.5]\n",
        "\n",
        "# Print the number of molecules remaining after applying the toxicity and QED filters\n",
        "print(f\"Number of molecules remaining after applying toxicity and QED filters: {len(filtered_df)}\")\n",
        "# Calculate the distribution of molecules passing all filters using the 'Model' column\n",
        "distribution_by_model = filtered_df['Model'].value_counts()\n",
        "\n",
        "# Print the distribution\n",
        "print(\"Distribution of molecules passing all filters by model:\")\n",
        "print(distribution_by_model)\n"
      ],
      "metadata": {
        "colab": {
          "base_uri": "https://localhost:8080/"
        },
        "id": "Vqv45pcZV7Sv",
        "outputId": "0be159a4-2c46-4c19-be87-b02d4e13beb2"
      },
      "execution_count": null,
      "outputs": [
        {
          "output_type": "stream",
          "name": "stdout",
          "text": [
            "Number of molecules remaining after applying toxicity and QED filters: 556\n",
            "Distribution of molecules passing all filters by model:\n",
            "Model\n",
            "Pocket2Mol    161\n",
            "Lingo3DMol    161\n",
            "DrugGPT        96\n",
            "DiffSBDD       85\n",
            "RGA            53\n",
            "Name: count, dtype: int64\n"
          ]
        }
      ]
    },
    {
      "cell_type": "markdown",
      "source": [
        "**4. LogP filter**"
      ],
      "metadata": {
        "id": "NV7hIEOmWKDA"
      }
    },
    {
      "cell_type": "code",
      "source": [
        "# Filter the DataFrame to include only rows where LogP is between 0 and 5\n",
        "filtered_df = filtered_df[(filtered_df['logP'] >= 2) & (filtered_df['logP'] <= 4)]\n",
        "\n",
        "# Print the number of molecules remaining after applying all filters (toxicity, QED, and LogP)\n",
        "print(f\"Number of molecules remaining after applying filters for toxicity, QED and LogP: {len(filtered_df)}\")\n",
        "# Calculate the distribution of molecules passing all filters using the 'Model' column\n",
        "distribution_by_model = filtered_df['Model'].value_counts()\n",
        "\n",
        "# Print the distribution\n",
        "print(\"Distribution of molecules passing all filters by model:\")\n",
        "print(distribution_by_model)\n"
      ],
      "metadata": {
        "colab": {
          "base_uri": "https://localhost:8080/"
        },
        "id": "y3WFCm3tWEIo",
        "outputId": "1c9c0a03-7a97-4aa9-a4d5-45d0c7c86238"
      },
      "execution_count": null,
      "outputs": [
        {
          "output_type": "stream",
          "name": "stdout",
          "text": [
            "Number of molecules remaining after applying filters for toxicity, QED and LogP: 253\n",
            "Distribution of molecules passing all filters by model:\n",
            "Model\n",
            "Lingo3DMol    78\n",
            "DrugGPT       71\n",
            "Pocket2Mol    68\n",
            "DiffSBDD      21\n",
            "RGA           15\n",
            "Name: count, dtype: int64\n"
          ]
        }
      ]
    },
    {
      "cell_type": "markdown",
      "source": [
        "**5. Similarity filter**"
      ],
      "metadata": {
        "id": "CWhqqmk7XVcL"
      }
    },
    {
      "cell_type": "code",
      "source": [
        "# Filter the DataFrame to include only rows where Similarity is less than 0.5\n",
        "filtered_df = filtered_df[filtered_df['Similarity'] < 0.5]\n",
        "\n",
        "# Print the number of molecules remaining after applying all filters including the Similarity filter\n",
        "print(f\"Number of molecules remaining after applying filters for toxicity, QED, LogP, and Similarity: {len(filtered_df)}\")\n",
        "# Calculate the distribution of molecules passing all filters using the 'Model' column\n",
        "distribution_by_model = filtered_df['Model'].value_counts()\n",
        "\n",
        "# Print the distribution\n",
        "print(\"Distribution of molecules passing all filters by model:\")\n",
        "print(distribution_by_model)\n"
      ],
      "metadata": {
        "id": "uoov41vSWkqa",
        "colab": {
          "base_uri": "https://localhost:8080/"
        },
        "outputId": "5f700153-a5b0-4034-f22a-6a2d20062c8b"
      },
      "execution_count": null,
      "outputs": [
        {
          "output_type": "stream",
          "name": "stdout",
          "text": [
            "Number of molecules remaining after applying filters for toxicity, QED, LogP, and Similarity: 240\n",
            "Distribution of molecules passing all filters by model:\n",
            "Model\n",
            "Lingo3DMol    76\n",
            "DrugGPT       71\n",
            "Pocket2Mol    68\n",
            "DiffSBDD      21\n",
            "RGA            4\n",
            "Name: count, dtype: int64\n"
          ]
        }
      ]
    },
    {
      "cell_type": "markdown",
      "source": [
        "**6. Molecular weight filter**"
      ],
      "metadata": {
        "id": "CrLxbcW8X3KB"
      }
    },
    {
      "cell_type": "code",
      "source": [
        "# Filter the DataFrame to include only rows where Similarity is less than 500\n",
        "filtered_df = filtered_df[filtered_df['MolecularWeight'] < 500]\n",
        "\n",
        "# Print the number of molecules remaining after applying all filters including the Similarity filter\n",
        "print(f\"Number of molecules remaining after applying filters for toxicity, QED, LogP, Similarity and Molecular Weight: {len(filtered_df)}\")\n",
        "# Calculate the distribution of molecules passing all filters using the 'Model' column\n",
        "distribution_by_model = filtered_df['Model'].value_counts()\n",
        "\n",
        "# Print the distribution\n",
        "print(\"Distribution of molecules passing all filters by model:\")\n",
        "print(distribution_by_model)\n"
      ],
      "metadata": {
        "colab": {
          "base_uri": "https://localhost:8080/"
        },
        "id": "y2Rp7bdEXo8M",
        "outputId": "c02cca40-a2bc-4684-e84e-686a91f21a50"
      },
      "execution_count": null,
      "outputs": [
        {
          "output_type": "stream",
          "name": "stdout",
          "text": [
            "Number of molecules remaining after applying filters for toxicity, QED, LogP, Similarity and Molecular Weight: 235\n",
            "Distribution of molecules passing all filters by model:\n",
            "Model\n",
            "Lingo3DMol    76\n",
            "Pocket2Mol    68\n",
            "DrugGPT       66\n",
            "DiffSBDD      21\n",
            "RGA            4\n",
            "Name: count, dtype: int64\n"
          ]
        }
      ]
    },
    {
      "cell_type": "markdown",
      "source": [
        "**7. SAS filter**"
      ],
      "metadata": {
        "id": "YJzwmO3Yi7Mj"
      }
    },
    {
      "cell_type": "code",
      "source": [
        "filtered_df = filtered_df[filtered_df['SAS'] < 5]\n",
        "\n",
        "# Print the number of molecules remaining after applying all filters including the Similarity filter\n",
        "print(f\"Number of molecules remaining after applying filters for toxicity, QED, LogP, Similarity, Molecular Weight and SAS: {len(filtered_df)}\")\n",
        "# Calculate the distribution of molecules passing all filters using the 'Model' column\n",
        "distribution_by_model = filtered_df['Model'].value_counts()\n",
        "\n",
        "# Print the distribution\n",
        "print(\"Distribution of molecules passing all filters by model:\")\n",
        "print(distribution_by_model)"
      ],
      "metadata": {
        "colab": {
          "base_uri": "https://localhost:8080/"
        },
        "id": "oCTdlzFtjCsz",
        "outputId": "03b6cf8e-9f79-4d87-8070-93a03e029cba"
      },
      "execution_count": null,
      "outputs": [
        {
          "output_type": "stream",
          "name": "stdout",
          "text": [
            "Number of molecules remaining after applying filters for toxicity, QED, LogP, Similarity, Molecular Weight and SAS: 221\n",
            "Distribution of molecules passing all filters by model:\n",
            "Model\n",
            "Lingo3DMol    76\n",
            "DrugGPT       65\n",
            "Pocket2Mol    64\n",
            "DiffSBDD      16\n",
            "Name: count, dtype: int64\n"
          ]
        }
      ]
    },
    {
      "cell_type": "markdown",
      "source": [
        "**8. HBA, HBD filter**"
      ],
      "metadata": {
        "id": "s-ICIzcelX03"
      }
    },
    {
      "cell_type": "code",
      "source": [
        "# Filter out molecules with more than 5 hydrogen bond donors (HBDs)\n",
        "filtered_df = filtered_df[filtered_df['HBD'] <= 5]\n",
        "\n",
        "# Filter out molecules with more than 10 hydrogen bond acceptors (HBAs)\n",
        "filtered_df = filtered_df[filtered_df['HBA'] <= 10]\n",
        "\n",
        "# Print the number of molecules remaining after applying Lipinski criteria\n",
        "print(f\"Number of molecules remaining after applying Lipinski criteria: {len(filtered_df)}\")\n",
        "# Calculate the distribution of molecules passing all filters using the 'Model' column\n",
        "distribution_by_model = filtered_df['Model'].value_counts()\n",
        "\n",
        "# Print the distribution\n",
        "print(\"Distribution of molecules passing all filters by model:\")\n",
        "print(distribution_by_model)\n"
      ],
      "metadata": {
        "colab": {
          "base_uri": "https://localhost:8080/"
        },
        "id": "Rtsd0W-llgjU",
        "outputId": "5df9eb55-5411-4c12-91de-58cf16ede7de"
      },
      "execution_count": null,
      "outputs": [
        {
          "output_type": "stream",
          "name": "stdout",
          "text": [
            "Number of molecules remaining after applying Lipinski criteria: 221\n",
            "Distribution of molecules passing all filters by model:\n",
            "Model\n",
            "Lingo3DMol    76\n",
            "DrugGPT       65\n",
            "Pocket2Mol    64\n",
            "DiffSBDD      16\n",
            "Name: count, dtype: int64\n"
          ]
        }
      ]
    },
    {
      "cell_type": "code",
      "source": [
        "# Sort the DataFrame by 'Docking Scores' in ascending order and 'pChEMBL Predicted' in descending order\n",
        "sorted_df = filtered_df.sort_values(by=['Docking Scores', 'pChEMBL Predicted'], ascending=[True, False])"
      ],
      "metadata": {
        "id": "EBL7EEajYa5T"
      },
      "execution_count": null,
      "outputs": []
    },
    {
      "cell_type": "code",
      "source": [
        "sorted_df.head(1)"
      ],
      "metadata": {
        "colab": {
          "base_uri": "https://localhost:8080/",
          "height": 201
        },
        "id": "wHdrykNIYv_D",
        "outputId": "0f716e41-aaa6-492f-a2bd-077ed5eb2bb9"
      },
      "execution_count": null,
      "outputs": [
        {
          "output_type": "execute_result",
          "data": {
            "text/plain": [
              "                                              SMILES  pChEMBL Predicted  \\\n",
              "195  NC(=O)C1CCC(C2Nc3ccccc3C3=C4C2=CCC(O)=C4N=N3)C1           6.324959   \n",
              "\n",
              "          QED    logP  Docking Scores  Similarity  MolecularWeight     NR-AR  \\\n",
              "195  0.760124  3.6589           -11.1    0.191011          348.406  0.036057   \n",
              "\n",
              "     NR-AR-LBD    NR-AhR  ...    SR-ARE  SR-ATAD5    SR-HSE    SR-MMP  \\\n",
              "195    0.02288  0.448949  ...  0.402156  0.068397  0.082829  0.430822   \n",
              "\n",
              "       SR-p53       SAS  Max Ring  HBA  HBD       Model  \n",
              "195  0.180512  4.398119       7.0  5.0  3.0  Pocket2Mol  \n",
              "\n",
              "[1 rows x 24 columns]"
            ],
            "text/html": [
              "\n",
              "  <div id=\"df-7cce85ed-7f90-45ba-9145-4ee0efa9c3ae\" class=\"colab-df-container\">\n",
              "    <div>\n",
              "<style scoped>\n",
              "    .dataframe tbody tr th:only-of-type {\n",
              "        vertical-align: middle;\n",
              "    }\n",
              "\n",
              "    .dataframe tbody tr th {\n",
              "        vertical-align: top;\n",
              "    }\n",
              "\n",
              "    .dataframe thead th {\n",
              "        text-align: right;\n",
              "    }\n",
              "</style>\n",
              "<table border=\"1\" class=\"dataframe\">\n",
              "  <thead>\n",
              "    <tr style=\"text-align: right;\">\n",
              "      <th></th>\n",
              "      <th>SMILES</th>\n",
              "      <th>pChEMBL Predicted</th>\n",
              "      <th>QED</th>\n",
              "      <th>logP</th>\n",
              "      <th>Docking Scores</th>\n",
              "      <th>Similarity</th>\n",
              "      <th>MolecularWeight</th>\n",
              "      <th>NR-AR</th>\n",
              "      <th>NR-AR-LBD</th>\n",
              "      <th>NR-AhR</th>\n",
              "      <th>...</th>\n",
              "      <th>SR-ARE</th>\n",
              "      <th>SR-ATAD5</th>\n",
              "      <th>SR-HSE</th>\n",
              "      <th>SR-MMP</th>\n",
              "      <th>SR-p53</th>\n",
              "      <th>SAS</th>\n",
              "      <th>Max Ring</th>\n",
              "      <th>HBA</th>\n",
              "      <th>HBD</th>\n",
              "      <th>Model</th>\n",
              "    </tr>\n",
              "  </thead>\n",
              "  <tbody>\n",
              "    <tr>\n",
              "      <th>195</th>\n",
              "      <td>NC(=O)C1CCC(C2Nc3ccccc3C3=C4C2=CCC(O)=C4N=N3)C1</td>\n",
              "      <td>6.324959</td>\n",
              "      <td>0.760124</td>\n",
              "      <td>3.6589</td>\n",
              "      <td>-11.1</td>\n",
              "      <td>0.191011</td>\n",
              "      <td>348.406</td>\n",
              "      <td>0.036057</td>\n",
              "      <td>0.02288</td>\n",
              "      <td>0.448949</td>\n",
              "      <td>...</td>\n",
              "      <td>0.402156</td>\n",
              "      <td>0.068397</td>\n",
              "      <td>0.082829</td>\n",
              "      <td>0.430822</td>\n",
              "      <td>0.180512</td>\n",
              "      <td>4.398119</td>\n",
              "      <td>7.0</td>\n",
              "      <td>5.0</td>\n",
              "      <td>3.0</td>\n",
              "      <td>Pocket2Mol</td>\n",
              "    </tr>\n",
              "  </tbody>\n",
              "</table>\n",
              "<p>1 rows × 24 columns</p>\n",
              "</div>\n",
              "    <div class=\"colab-df-buttons\">\n",
              "\n",
              "  <div class=\"colab-df-container\">\n",
              "    <button class=\"colab-df-convert\" onclick=\"convertToInteractive('df-7cce85ed-7f90-45ba-9145-4ee0efa9c3ae')\"\n",
              "            title=\"Convert this dataframe to an interactive table.\"\n",
              "            style=\"display:none;\">\n",
              "\n",
              "  <svg xmlns=\"http://www.w3.org/2000/svg\" height=\"24px\" viewBox=\"0 -960 960 960\">\n",
              "    <path d=\"M120-120v-720h720v720H120Zm60-500h600v-160H180v160Zm220 220h160v-160H400v160Zm0 220h160v-160H400v160ZM180-400h160v-160H180v160Zm440 0h160v-160H620v160ZM180-180h160v-160H180v160Zm440 0h160v-160H620v160Z\"/>\n",
              "  </svg>\n",
              "    </button>\n",
              "\n",
              "  <style>\n",
              "    .colab-df-container {\n",
              "      display:flex;\n",
              "      gap: 12px;\n",
              "    }\n",
              "\n",
              "    .colab-df-convert {\n",
              "      background-color: #E8F0FE;\n",
              "      border: none;\n",
              "      border-radius: 50%;\n",
              "      cursor: pointer;\n",
              "      display: none;\n",
              "      fill: #1967D2;\n",
              "      height: 32px;\n",
              "      padding: 0 0 0 0;\n",
              "      width: 32px;\n",
              "    }\n",
              "\n",
              "    .colab-df-convert:hover {\n",
              "      background-color: #E2EBFA;\n",
              "      box-shadow: 0px 1px 2px rgba(60, 64, 67, 0.3), 0px 1px 3px 1px rgba(60, 64, 67, 0.15);\n",
              "      fill: #174EA6;\n",
              "    }\n",
              "\n",
              "    .colab-df-buttons div {\n",
              "      margin-bottom: 4px;\n",
              "    }\n",
              "\n",
              "    [theme=dark] .colab-df-convert {\n",
              "      background-color: #3B4455;\n",
              "      fill: #D2E3FC;\n",
              "    }\n",
              "\n",
              "    [theme=dark] .colab-df-convert:hover {\n",
              "      background-color: #434B5C;\n",
              "      box-shadow: 0px 1px 3px 1px rgba(0, 0, 0, 0.15);\n",
              "      filter: drop-shadow(0px 1px 2px rgba(0, 0, 0, 0.3));\n",
              "      fill: #FFFFFF;\n",
              "    }\n",
              "  </style>\n",
              "\n",
              "    <script>\n",
              "      const buttonEl =\n",
              "        document.querySelector('#df-7cce85ed-7f90-45ba-9145-4ee0efa9c3ae button.colab-df-convert');\n",
              "      buttonEl.style.display =\n",
              "        google.colab.kernel.accessAllowed ? 'block' : 'none';\n",
              "\n",
              "      async function convertToInteractive(key) {\n",
              "        const element = document.querySelector('#df-7cce85ed-7f90-45ba-9145-4ee0efa9c3ae');\n",
              "        const dataTable =\n",
              "          await google.colab.kernel.invokeFunction('convertToInteractive',\n",
              "                                                    [key], {});\n",
              "        if (!dataTable) return;\n",
              "\n",
              "        const docLinkHtml = 'Like what you see? Visit the ' +\n",
              "          '<a target=\"_blank\" href=https://colab.research.google.com/notebooks/data_table.ipynb>data table notebook</a>'\n",
              "          + ' to learn more about interactive tables.';\n",
              "        element.innerHTML = '';\n",
              "        dataTable['output_type'] = 'display_data';\n",
              "        await google.colab.output.renderOutput(dataTable, element);\n",
              "        const docLink = document.createElement('div');\n",
              "        docLink.innerHTML = docLinkHtml;\n",
              "        element.appendChild(docLink);\n",
              "      }\n",
              "    </script>\n",
              "  </div>\n",
              "\n",
              "    </div>\n",
              "  </div>\n"
            ],
            "application/vnd.google.colaboratory.intrinsic+json": {
              "type": "dataframe",
              "variable_name": "sorted_df"
            }
          },
          "metadata": {},
          "execution_count": 84
        },
        {
          "output_type": "stream",
          "name": "stdout",
          "text": [
            "Warning: Total number of columns (24) exceeds max_columns (20) limiting to first (20) columns.\n"
          ]
        }
      ]
    },
    {
      "cell_type": "code",
      "source": [
        "sorted_df.to_csv('all_molecules_filtered.csv', index=False)\n"
      ],
      "metadata": {
        "id": "JX6OKLEnnUyk"
      },
      "execution_count": null,
      "outputs": []
    },
    {
      "cell_type": "code",
      "source": [],
      "metadata": {
        "id": "pdW3Xf1tr5Z5"
      },
      "execution_count": null,
      "outputs": []
    }
  ]
}