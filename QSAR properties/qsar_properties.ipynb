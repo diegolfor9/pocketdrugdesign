{
  "nbformat": 4,
  "nbformat_minor": 0,
  "metadata": {
    "colab": {
      "provenance": []
    },
    "kernelspec": {
      "name": "python3",
      "display_name": "Python 3"
    },
    "language_info": {
      "name": "python"
    }
  },
  "cells": [
    {
      "cell_type": "markdown",
      "source": [
        "**1. Dependencies instalation**"
      ],
      "metadata": {
        "id": "uQ_Tn9Y_M1P-"
      }
    },
    {
      "cell_type": "code",
      "execution_count": null,
      "metadata": {
        "colab": {
          "base_uri": "https://localhost:8080/"
        },
        "id": "SpBb6lNcMzD4",
        "outputId": "48082b18-78aa-4ee7-c401-b574219b45e4"
      },
      "outputs": [
        {
          "output_type": "stream",
          "name": "stdout",
          "text": [
            "Collecting rdkit\n",
            "  Downloading rdkit-2023.9.5-cp310-cp310-manylinux_2_17_x86_64.manylinux2014_x86_64.whl (34.4 MB)\n",
            "\u001b[2K     \u001b[90m━━━━━━━━━━━━━━━━━━━━━━━━━━━━━━━━━━━━━━━━\u001b[0m \u001b[32m34.4/34.4 MB\u001b[0m \u001b[31m16.5 MB/s\u001b[0m eta \u001b[36m0:00:00\u001b[0m\n",
            "\u001b[?25hRequirement already satisfied: numpy in /usr/local/lib/python3.10/dist-packages (from rdkit) (1.25.2)\n",
            "Requirement already satisfied: Pillow in /usr/local/lib/python3.10/dist-packages (from rdkit) (9.4.0)\n",
            "Installing collected packages: rdkit\n",
            "Successfully installed rdkit-2023.9.5\n"
          ]
        }
      ],
      "source": [
        "!pip install rdkit"
      ]
    },
    {
      "cell_type": "code",
      "source": [
        "from rdkit import Chem\n",
        "from rdkit.Chem import AllChem, DataStructs\n",
        "import numpy as np\n",
        "import pandas as pd\n",
        "\n",
        "# Cargar los datos\n",
        "basedyrk1a_df = pd.read_csv('basedyrk1a.csv', encoding='latin-1', sep=';')\n",
        "drug_df = pd.read_csv('all_predictions_drug_tox_docking.csv')\n",
        "diff_df = pd.read_csv('all_predictions_diff_tox_docking.csv')\n",
        "rga_df = pd.read_csv('all_predictions_rga_tox_docking.csv')\n",
        "pocket_df = pd.read_csv('all_predictions_pocket_tox_docking.csv')\n",
        "lingo_df = pd.read_csv('600_predictions_lingo_tox_docking.csv')"
      ],
      "metadata": {
        "id": "Lj1LdZS3an0w"
      },
      "execution_count": null,
      "outputs": []
    },
    {
      "cell_type": "markdown",
      "source": [
        "**2. Tanimoto Similarity**"
      ],
      "metadata": {
        "id": "hkpKBoLbM9Yd"
      }
    },
    {
      "cell_type": "code",
      "source": [
        "\n",
        "\n",
        "\n",
        "\n",
        "# Función para calcular las fingerprints de las moléculas\n",
        "def get_fingerprints(smiles_list):\n",
        "    fps = []\n",
        "    for smiles in smiles_list:\n",
        "        mol = Chem.MolFromSmiles(smiles)\n",
        "        if mol:  # Verificar que el mol no sea None\n",
        "            fp = AllChem.GetMorganFingerprintAsBitVect(mol, 2, nBits=2048)\n",
        "            fps.append(fp)\n",
        "    return fps\n",
        "\n",
        "# Función para añadir la columna de similitud máxima\n",
        "def add_max_similarity_column(df, target_fps):\n",
        "    max_similarities = []\n",
        "    for smiles in df['SMILES']:\n",
        "        mol = Chem.MolFromSmiles(smiles)\n",
        "        if mol:\n",
        "            fp = AllChem.GetMorganFingerprintAsBitVect(mol, 2, nBits=2048)\n",
        "            similarities = [DataStructs.TanimotoSimilarity(fp, target_fp) for target_fp in target_fps]\n",
        "            max_similarity = max(similarities) if similarities else 0\n",
        "            max_similarities.append(max_similarity)\n",
        "        else:\n",
        "            max_similarities.append(0)\n",
        "    df['Similarity'] = max_similarities\n",
        "\n",
        "# Calcular fingerprints de la base DYRK1A\n",
        "basedyrk1a_fps = get_fingerprints(basedyrk1a_df['SMILES'].tolist())\n",
        "\n",
        "# Actualizar dataframes con la columna de similitud máxima\n",
        "add_max_similarity_column(drug_df, basedyrk1a_fps)\n",
        "add_max_similarity_column(diff_df, basedyrk1a_fps)\n",
        "add_max_similarity_column(rga_df, basedyrk1a_fps)\n",
        "add_max_similarity_column(pocket_df, basedyrk1a_fps)\n",
        "add_max_similarity_column(lingo_df, basedyrk1a_fps)\n",
        "\n"
      ],
      "metadata": {
        "id": "1_oR4ULpM8Jb"
      },
      "execution_count": null,
      "outputs": []
    },
    {
      "cell_type": "code",
      "source": [
        "# Función para calcular el porcentaje de moléculas con similitud > 0.85\n",
        "def calculate_percentage_high_similarity(df):\n",
        "    count_high_similarity = (df['Similarity'] > 0.85).sum()\n",
        "    total_molecules = len(df)\n",
        "    percentage = (count_high_similarity / total_molecules) * 100\n",
        "    return percentage\n",
        "\n",
        "# Calcular y mostrar los porcentajes para cada modelo\n",
        "percentage_drug = calculate_percentage_high_similarity(drug_df)\n",
        "percentage_diff = calculate_percentage_high_similarity(diff_df)\n",
        "percentage_rga = calculate_percentage_high_similarity(rga_df)\n",
        "percentage_pocket = calculate_percentage_high_similarity(pocket_df)\n",
        "percentage_lingo = calculate_percentage_high_similarity(lingo_df)\n",
        "\n",
        "print(f\"Para el modelo DrugGPT, el {percentage_drug:.2f}% de las moléculas tienen una similitud > 0.85 con la base de datos DYRK1A.\")\n",
        "print(f\"Para el modelo Diff, el {percentage_diff:.2f}% de las moléculas tienen una similitud > 0.85 con la base de datos DYRK1A.\")\n",
        "print(f\"Para el modelo RGA, el {percentage_rga:.2f}% de las moléculas tienen una similitud > 0.85 con la base de datos DYRK1A.\")\n",
        "print(f\"Para el modelo Pocket2Mol, el {percentage_pocket:.2f}% de las moléculas tienen una similitud > 0.85 con la base de datos DYRK1A.\")\n",
        "print(f\"Para el modelo Lingo, el {percentage_lingo:.2f}% de las moléculas tienen una similitud > 0.85 con la base de datos DYRK1A.\")\n"
      ],
      "metadata": {
        "colab": {
          "base_uri": "https://localhost:8080/"
        },
        "id": "mN7D6gi3TB88",
        "outputId": "53c2492f-14ba-4b6b-d9f3-257df08496be"
      },
      "execution_count": null,
      "outputs": [
        {
          "output_type": "stream",
          "name": "stdout",
          "text": [
            "Para el modelo DrugGPT, el 0.00% de las moléculas tienen una similitud > 0.85 con la base de datos DYRK1A.\n",
            "Para el modelo Diff, el 0.00% de las moléculas tienen una similitud > 0.85 con la base de datos DYRK1A.\n",
            "Para el modelo RGA, el 14.42% de las moléculas tienen una similitud > 0.85 con la base de datos DYRK1A.\n",
            "Para el modelo Pocket2Mol, el 0.00% de las moléculas tienen una similitud > 0.85 con la base de datos DYRK1A.\n",
            "Para el modelo Lingo, el 0.33% de las moléculas tienen una similitud > 0.85 con la base de datos DYRK1A.\n"
          ]
        }
      ]
    },
    {
      "cell_type": "markdown",
      "source": [
        "**3.Molecular weight**"
      ],
      "metadata": {
        "id": "Fqmyw-EANCkZ"
      }
    },
    {
      "cell_type": "code",
      "source": [
        "from rdkit.Chem import Descriptors\n",
        "\n",
        "# Función para añadir la columna de peso molecular\n",
        "def add_molecular_weight_column(df):\n",
        "    molecular_weights = []\n",
        "    for smiles in df['SMILES']:\n",
        "        mol = Chem.MolFromSmiles(smiles)\n",
        "        if mol:\n",
        "            weight = Descriptors.MolWt(mol)\n",
        "            molecular_weights.append(weight)\n",
        "        else:\n",
        "            molecular_weights.append(0)  # Asumir peso 0 si la molécula no se puede generar\n",
        "    df['MolecularWeight'] = molecular_weights\n",
        "\n",
        "# Añadir columna de peso molecular a cada dataframe\n",
        "add_molecular_weight_column(drug_df)\n",
        "add_molecular_weight_column(diff_df)\n",
        "add_molecular_weight_column(rga_df)\n",
        "add_molecular_weight_column(pocket_df)\n",
        "add_molecular_weight_column(lingo_df)\n",
        "\n",
        "# Función para calcular la media de los pesos moleculares\n",
        "def calculate_average_molecular_weight(df):\n",
        "    average_weight = df['MolecularWeight'].mean()\n",
        "    return average_weight\n",
        "\n",
        "# Calcular y mostrar la media de pesos moleculares para cada modelo\n",
        "avg_weight_drug = calculate_average_molecular_weight(drug_df)\n",
        "avg_weight_diff = calculate_average_molecular_weight(diff_df)\n",
        "avg_weight_rga = calculate_average_molecular_weight(rga_df)\n",
        "avg_weight_pocket = calculate_average_molecular_weight(pocket_df)\n",
        "avg_weight_lingo = calculate_average_molecular_weight(lingo_df)\n",
        "\n",
        "print(f\"El peso molecular medio para el modelo DrugGPT es: {avg_weight_drug:.2f}\")\n",
        "print(f\"El peso molecular medio para el modelo Diff es: {avg_weight_diff:.2f}\")\n",
        "print(f\"El peso molecular medio para el modelo RGA es: {avg_weight_rga:.2f}\")\n",
        "print(f\"El peso molecular medio para el modelo Pocket2Mol es: {avg_weight_pocket:.2f}\")\n",
        "print(f\"El peso molecular medio para el modelo Lingo es: {avg_weight_lingo:.2f}\")\n"
      ],
      "metadata": {
        "colab": {
          "base_uri": "https://localhost:8080/"
        },
        "id": "Lzoaz8HUNIlH",
        "outputId": "2bb82c4e-849f-49c5-bb0c-b0aade5701bc"
      },
      "execution_count": null,
      "outputs": [
        {
          "output_type": "stream",
          "name": "stdout",
          "text": [
            "El peso molecular medio para el modelo DrugGPT es: 418.80\n",
            "El peso molecular medio para el modelo Diff es: 268.67\n",
            "El peso molecular medio para el modelo RGA es: 314.41\n",
            "El peso molecular medio para el modelo Pocket2Mol es: 309.73\n",
            "El peso molecular medio para el modelo Lingo es: 335.16\n"
          ]
        }
      ]
    },
    {
      "cell_type": "markdown",
      "source": [
        "**SAS**"
      ],
      "metadata": {
        "id": "ljNfIpFlZKNA"
      }
    },
    {
      "cell_type": "code",
      "source": [
        "!wget https://raw.githubusercontent.com/rdkit/rdkit/master/Contrib/SA_Score/sascorer.py\n",
        "\n",
        "from rdkit import Chem\n",
        "import pandas as pd\n",
        "import sascorer\n",
        "\n",
        "# Función para añadir la columna de SAS\n",
        "def add_sas_column(df):\n",
        "    sas_scores = []\n",
        "    for smiles in df['SMILES']:\n",
        "        mol = Chem.MolFromSmiles(smiles)\n",
        "        if mol:\n",
        "            sas_score = sascorer.calculateScore(mol)\n",
        "            sas_scores.append(sas_score)\n",
        "        else:\n",
        "            sas_scores.append(None)  # Asumir None si la molécula no se puede generar\n",
        "    df['SAS'] = sas_scores\n",
        "\n",
        "# Añadir columna de SAS a cada dataframe\n",
        "add_sas_column(drug_df)\n",
        "add_sas_column(diff_df)\n",
        "add_sas_column(rga_df)\n",
        "add_sas_column(pocket_df)\n",
        "add_sas_column(lingo_df)\n",
        "\n",
        "# Función para calcular la media de los SAS\n",
        "def calculate_average_sas(df):\n",
        "    average_sas = df['SAS'].dropna().mean()  # Ignorar valores None\n",
        "    return average_sas\n",
        "\n",
        "# Calcular y mostrar la media de SAS para cada modelo\n",
        "avg_sas_drug = calculate_average_sas(drug_df)\n",
        "avg_sas_diff = calculate_average_sas(diff_df)\n",
        "avg_sas_rga = calculate_average_sas(rga_df)\n",
        "avg_sas_pocket = calculate_average_sas(pocket_df)\n",
        "avg_sas_lingo = calculate_average_sas(lingo_df)\n",
        "\n",
        "print(f\"El SAS medio para el modelo DrugGPT es: {avg_sas_drug:.2f}\")\n",
        "print(f\"El SAS medio para el modelo Diff es: {avg_sas_diff:.2f}\")\n",
        "print(f\"El SAS medio para el modelo RGA es: {avg_sas_rga:.2f}\")\n",
        "print(f\"El SAS medio para el modelo Pocket2Mol es: {avg_sas_pocket:.2f}\")\n",
        "print(f\"El SAS medio para el modelo Lingo es: {avg_sas_lingo:.2f}\")\n",
        "\n",
        "\n"
      ],
      "metadata": {
        "colab": {
          "base_uri": "https://localhost:8080/"
        },
        "id": "1bHmuFHbUfAZ",
        "outputId": "79947a14-a6c2-4cef-9ad2-3e78f262f040"
      },
      "execution_count": null,
      "outputs": [
        {
          "output_type": "stream",
          "name": "stdout",
          "text": [
            "--2024-04-17 09:41:39--  https://raw.githubusercontent.com/rdkit/rdkit/master/Contrib/SA_Score/sascorer.py\n",
            "Resolving raw.githubusercontent.com (raw.githubusercontent.com)... 185.199.108.133, 185.199.109.133, 185.199.110.133, ...\n",
            "Connecting to raw.githubusercontent.com (raw.githubusercontent.com)|185.199.108.133|:443... connected.\n",
            "HTTP request sent, awaiting response... 200 OK\n",
            "Length: 5568 (5.4K) [text/plain]\n",
            "Saving to: ‘sascorer.py.1’\n",
            "\n",
            "\rsascorer.py.1         0%[                    ]       0  --.-KB/s               \rsascorer.py.1       100%[===================>]   5.44K  --.-KB/s    in 0s      \n",
            "\n",
            "2024-04-17 09:41:39 (48.3 MB/s) - ‘sascorer.py.1’ saved [5568/5568]\n",
            "\n",
            "El SAS medio para el modelo DrugGPT es: 2.57\n",
            "El SAS medio para el modelo Diff es: 4.76\n",
            "El SAS medio para el modelo RGA es: 3.52\n",
            "El SAS medio para el modelo Pocket2Mol es: 3.25\n",
            "El SAS medio para el modelo Lingo es: 2.83\n"
          ]
        }
      ]
    },
    {
      "cell_type": "markdown",
      "source": [
        "**Ring**"
      ],
      "metadata": {
        "id": "4h-Shg1rfB0N"
      }
    },
    {
      "cell_type": "code",
      "source": [
        "from rdkit import Chem\n",
        "import pandas as pd\n",
        "\n",
        "# Function to add the maximum ring size to the DataFrame\n",
        "def add_max_ring_size_column(df):\n",
        "    # Create a new column 'Max Ring' where each entry is the maximum ring size of that molecule\n",
        "    df['Max Ring'] = df['SMILES'].apply(lambda smiles: get_max_ring_size(smiles))\n",
        "\n",
        "def get_max_ring_size(smiles):\n",
        "    mol = Chem.MolFromSmiles(smiles)\n",
        "    if mol:\n",
        "        ri = mol.GetRingInfo()\n",
        "        sizes = [len(ring) for ring in ri.AtomRings()]  # List of ring sizes for this molecule\n",
        "        return max(sizes) if sizes else 0  # Return max size or 0 if no rings\n",
        "    return None  # Return None if the molecule could not be parsed\n",
        "\n",
        "# Function to calculate the distribution of ring sizes from a list of ring sizes\n",
        "def calculate_ring_size_distribution(ring_sizes):\n",
        "    ring_size_counts = pd.Series(ring_sizes).value_counts(normalize=True).sort_index()\n",
        "    return ring_size_counts\n",
        "\n",
        "# Function to get a flat list of all ring sizes across all molecules in the DataFrame\n",
        "def get_all_ring_sizes(df):\n",
        "    all_ring_sizes = []\n",
        "    for smiles in df['SMILES']:\n",
        "        mol = Chem.MolFromSmiles(smiles)\n",
        "        if mol:\n",
        "            ri = mol.GetRingInfo()\n",
        "            sizes = [len(ring) for ring in ri.AtomRings()]  # List of ring sizes for this molecule\n",
        "            all_ring_sizes.extend(sizes)  # Extend the list with the ring sizes of this molecule\n",
        "    return all_ring_sizes\n",
        "\n",
        "# Example usage:\n",
        "# Load your DataFrames here (e.g., drug_df, diff_df, etc.)\n",
        "\n",
        "# Add 'Max Ring' column to each DataFrame\n",
        "add_max_ring_size_column(drug_df)\n",
        "add_max_ring_size_column(diff_df)\n",
        "add_max_ring_size_column(rga_df)\n",
        "add_max_ring_size_column(pocket_df)\n",
        "add_max_ring_size_column(lingo_df)\n",
        "\n",
        "# Get a flat list of all ring sizes from each DataFrame\n",
        "drug_ring_sizes = get_all_ring_sizes(drug_df)\n",
        "diff_ring_sizes = get_all_ring_sizes(diff_df)\n",
        "rga_ring_sizes = get_all_ring_sizes(rga_df)\n",
        "pocket_ring_sizes = get_all_ring_sizes(pocket_df)\n",
        "lingo_ring_sizes = get_all_ring_sizes(lingo_df)\n",
        "\n",
        "# Calculate the distribution of ring sizes\n",
        "drug_size_distribution = calculate_ring_size_distribution(drug_ring_sizes)\n",
        "diff_size_distribution = calculate_ring_size_distribution(diff_ring_sizes)\n",
        "rga_size_distribution = calculate_ring_size_distribution(rga_ring_sizes)\n",
        "pocket_size_distribution = calculate_ring_size_distribution(pocket_ring_sizes)\n",
        "lingo_size_distribution = calculate_ring_size_distribution(lingo_ring_sizes)\n",
        "\n",
        "# Print the distributions of ring sizes for each model\n",
        "print(\"Distribución de tamaños de anillos para el modelo DrugGPT:\")\n",
        "print(drug_size_distribution)\n",
        "print(\"\\nDistribución de tamaños de anillos para el modelo Diff:\")\n",
        "print(diff_size_distribution)\n",
        "print(\"\\nDistribución de tamaños de anillos para el modelo RGA:\")\n",
        "print(rga_size_distribution)\n",
        "print(\"\\nDistribución de tamaños de anillos para el modelo Pocket2Mol:\")\n",
        "print(pocket_size_distribution)\n",
        "print(\"\\nDistribución de tamaños de anillos para el modelo Lingo:\")\n",
        "print(lingo_size_distribution)\n",
        "\n"
      ],
      "metadata": {
        "colab": {
          "base_uri": "https://localhost:8080/"
        },
        "id": "RmnWEUtrZRh9",
        "outputId": "e0697ec3-ab91-470a-a4af-2d12227b01b2"
      },
      "execution_count": null,
      "outputs": [
        {
          "output_type": "stream",
          "name": "stdout",
          "text": [
            "Distribución de tamaños de anillos para el modelo DrugGPT:\n",
            "3     0.002679\n",
            "4     0.002679\n",
            "5     0.257200\n",
            "6     0.726055\n",
            "7     0.009377\n",
            "8     0.000670\n",
            "18    0.001340\n",
            "Name: proportion, dtype: float64\n",
            "\n",
            "Distribución de tamaños de anillos para el modelo Diff:\n",
            "3     0.367089\n",
            "4     0.052743\n",
            "5     0.219409\n",
            "6     0.303797\n",
            "7     0.042194\n",
            "8     0.008439\n",
            "9     0.004219\n",
            "12    0.002110\n",
            "Name: proportion, dtype: float64\n",
            "\n",
            "Distribución de tamaños de anillos para el modelo RGA:\n",
            "3    0.013615\n",
            "4    0.004084\n",
            "5    0.314500\n",
            "6    0.667801\n",
            "Name: proportion, dtype: float64\n",
            "\n",
            "Distribución de tamaños de anillos para el modelo Pocket2Mol:\n",
            "3     0.000473\n",
            "5     0.239583\n",
            "6     0.722064\n",
            "7     0.023674\n",
            "8     0.003314\n",
            "9     0.000947\n",
            "11    0.000473\n",
            "12    0.000473\n",
            "13    0.002367\n",
            "14    0.001894\n",
            "15    0.001420\n",
            "16    0.002841\n",
            "17    0.000473\n",
            "Name: proportion, dtype: float64\n",
            "\n",
            "Distribución de tamaños de anillos para el modelo Lingo:\n",
            "4    0.002810\n",
            "5    0.364403\n",
            "6    0.631382\n",
            "7    0.001405\n",
            "Name: proportion, dtype: float64\n"
          ]
        }
      ]
    },
    {
      "cell_type": "markdown",
      "source": [
        "**HBD, HBA**"
      ],
      "metadata": {
        "id": "8Dmm71KWkJef"
      }
    },
    {
      "cell_type": "code",
      "source": [
        "from rdkit import Chem\n",
        "\n",
        "# Function to calculate the number of hydrogen bond donors (HBDs) for each molecule\n",
        "def calculate_hbd(smiles):\n",
        "    mol = Chem.MolFromSmiles(smiles)\n",
        "    if mol:\n",
        "        return Chem.rdMolDescriptors.CalcNumHBD(mol)\n",
        "    else:\n",
        "        return None\n",
        "\n",
        "# Function to calculate the number of hydrogen bond acceptors (HBAs) for each molecule\n",
        "def calculate_hba(smiles):\n",
        "    mol = Chem.MolFromSmiles(smiles)\n",
        "    if mol:\n",
        "        return Chem.rdMolDescriptors.CalcNumHBA(mol)\n",
        "    else:\n",
        "        return None\n",
        "\n",
        "# Function to add the columns for HBA and HBD to the DataFrame\n",
        "def add_hba_hbd_columns(df):\n",
        "    hba_values = []\n",
        "    hbd_values = []\n",
        "    for smiles in df['SMILES']:\n",
        "        hba = calculate_hba(smiles)\n",
        "        hbd = calculate_hbd(smiles)\n",
        "        hba_values.append(hba)\n",
        "        hbd_values.append(hbd)\n",
        "    df['HBA'] = hba_values\n",
        "    df['HBD'] = hbd_values\n",
        "\n",
        "# Add the columns for HBA and HBD to each DataFrame\n",
        "add_hba_hbd_columns(drug_df)\n",
        "add_hba_hbd_columns(diff_df)\n",
        "add_hba_hbd_columns(rga_df)\n",
        "add_hba_hbd_columns(pocket_df)\n",
        "add_hba_hbd_columns(lingo_df)\n",
        "\n",
        "# Print the DataFrames to verify the new columns have been added\n",
        "print(drug_df.head())  # Print the first few rows of the DataFrame to verify the new columns\n",
        "print(diff_df.head())  # Print the first few rows of the DataFrame to verify the new columns\n",
        "print(rga_df.head())  # Print the first few rows of the DataFrame to verify the new columns\n",
        "print(pocket_df.head())  # Print the first few rows of the DataFrame to verify the new columns\n",
        "print(lingo_df.head())  # Print the first few rows of the DataFrame to verify the new columns\n"
      ],
      "metadata": {
        "colab": {
          "base_uri": "https://localhost:8080/"
        },
        "id": "zhJKl1mwkLmh",
        "outputId": "f7973eae-61aa-4144-e902-c465c2978dee"
      },
      "execution_count": null,
      "outputs": [
        {
          "output_type": "stream",
          "name": "stdout",
          "text": [
            "                                              SMILES  pChEMBL Predicted  \\\n",
            "0          Cc1nc2cc(ccc2o1)C(=O)Nc1nc(cs1)-c1ccccc1F           6.062517   \n",
            "1         COc1cccc(NC(=O)c2cc(nc3ccccc23)-c2ccco2)c1           6.614742   \n",
            "2    Cc1ccc(NC(=O)Cn2nc(C)cc2C)cc1S(=O)(=O)N1CCCCCC1           6.103859   \n",
            "3  CCOc1ccc(cc1)C(=O)Nc1ccc2c(CC)nn(c2c1)S(=O)(=O...           6.188527   \n",
            "4  CC(C)C(NC(=O)c1ccc(cc1)C#N)C(=O)OCC(=O)Nc1cccc...           6.631953   \n",
            "\n",
            "        QED     logP  Docking Scores  Similarity  MolecularWeight     NR-AR  \\\n",
            "0  0.581966  4.65112            -9.5    0.275862          353.378  0.089856   \n",
            "1  0.579807  4.75570            -9.1    0.333333          344.370  0.084144   \n",
            "2  0.830188  3.01176            -8.7    0.250000          404.536  0.024204   \n",
            "3  0.336028  5.03490            -9.7    0.260870          500.580  0.043299   \n",
            "4  0.677599  3.14798            -8.0    0.263736          413.861  0.042349   \n",
            "\n",
            "   NR-AR-LBD    NR-AhR  ...  NR-PPAR-gamma    SR-ARE  SR-ATAD5    SR-HSE  \\\n",
            "0   0.068739  0.887948  ...       0.091254  0.780042  0.351404  0.204813   \n",
            "1   0.048121  0.893596  ...       0.119513  0.773357  0.342338  0.189641   \n",
            "2   0.007124  0.037690  ...       0.003281  0.076704  0.002810  0.012721   \n",
            "3   0.031914  0.566902  ...       0.053142  0.517487  0.072914  0.072838   \n",
            "4   0.026269  0.237608  ...       0.052983  0.292569  0.063670  0.073047   \n",
            "\n",
            "     SR-MMP    SR-p53       SAS  Max Ring  HBA  HBD  \n",
            "0  0.804084  0.427478  2.160569         6    5    1  \n",
            "1  0.831297  0.355744  1.906841         6    4    1  \n",
            "2  0.036244  0.005837  2.160468         7    5    1  \n",
            "3  0.678307  0.179717  2.519923         6    7    1  \n",
            "4  0.313312  0.107913  2.452390         6    5    2  \n",
            "\n",
            "[5 rows x 23 columns]\n",
            "                                              SMILES  pChEMBL Predicted  \\\n",
            "0         C[C@]1(O)[C@](O)(CO)CO[C@]12O[C@H]2C(=O)OO           5.842870   \n",
            "1  C[C@H]([C@@H]1C[C@@]1(C=O)[C@H](CC(F)(F)F)[C@H...           5.931106   \n",
            "2                          CCC(=CC[C@@H](O)C(=O)O)NO           5.529959   \n",
            "3        O=C1CC(N(O)C(F)(F)[C@@H](CF)C(F)(F)F)=CC=N1           5.514593   \n",
            "4  N=C(CO)[C@@]1(OO)CC[C@@H](O)[C@@H]1N[C@@H]1CC(...           5.841480   \n",
            "\n",
            "        QED     logP  Docking Scores  Similarity  MolecularWeight     NR-AR  \\\n",
            "0  0.237118 -2.39770            -5.3    0.210526          236.176  0.315447   \n",
            "1  0.481693  2.93040            -6.6    0.120879          303.246  0.264902   \n",
            "2  0.444662  0.09470            -5.5    0.134615          175.184  0.072008   \n",
            "3  0.490855  2.30340            -7.0    0.151899          290.163  0.032706   \n",
            "4  0.181864 -1.35963            -7.1    0.133333          286.284  0.344818   \n",
            "\n",
            "   NR-AR-LBD    NR-AhR  ...  NR-PPAR-gamma    SR-ARE  SR-ATAD5    SR-HSE  \\\n",
            "0   0.253841  0.000996  ...       0.028735  0.119270  0.013146  0.006142   \n",
            "1   0.120273  0.016952  ...       0.007555  0.172284  0.010843  0.036579   \n",
            "2   0.021467  0.008978  ...       0.011071  0.124508  0.004309  0.025111   \n",
            "3   0.050574  0.054780  ...       0.025810  0.570068  0.048610  0.142074   \n",
            "4   0.153217  0.023284  ...       0.021006  0.073015  0.016331  0.017556   \n",
            "\n",
            "     SR-MMP    SR-p53       SAS  Max Ring  HBA  HBD  \n",
            "0  0.054185  0.094961  5.645741         5    8    4  \n",
            "1  0.396474  0.046141  5.218070         3    2    1  \n",
            "2  0.003598  0.013752  3.803398         0    4    4  \n",
            "3  0.560335  0.299691  4.652986         6    3    1  \n",
            "4  0.024879  0.054119  5.250623         5    8    5  \n",
            "\n",
            "[5 rows x 23 columns]\n",
            "                                              SMILES  pChEMBL Predicted  \\\n",
            "0     Clc1ccc(CNc2cc(-c3ccc4c(c3)OCO4)nc[nH+]2)cc1Cl           5.676971   \n",
            "1  COc1ccc(-c2cc[nH+]c([NH2+]Cc3ccc(Cl)c(Cl)c3)n2...           5.602700   \n",
            "2                    N#Cc1cc2c[nH]ccc2c2nc3ncccc3c12           6.064526   \n",
            "3  Cc1ccc(C(=O)[N-]c2cncc(-c3cc(-c4ccc[nH+]c4)cs3...           6.885777   \n",
            "4                     Cc1[nH]ccc2c1[nH]c1cc(=O)ccc12           6.046452   \n",
            "\n",
            "        QED     logP  Docking Scores  Similarity  MolecularWeight     NR-AR  \\\n",
            "0  0.742352  4.21030            -9.5    0.672727          375.235  0.050160   \n",
            "1  0.757484  3.27320            -8.9    0.508772          362.260  0.039378   \n",
            "2  0.516445  3.13598            -9.1    0.418182          244.257  0.054612   \n",
            "3  0.479118  5.44522            -9.9    0.484848          371.465  0.096304   \n",
            "4  0.571826  2.31782            -8.2    0.363636          198.225  0.067217   \n",
            "\n",
            "   NR-AR-LBD    NR-AhR  ...  NR-PPAR-gamma    SR-ARE  SR-ATAD5    SR-HSE  \\\n",
            "0   0.035472  0.797183  ...       0.069062  0.749389  0.189025  0.193818   \n",
            "1   0.016783  0.480030  ...       0.025364  0.567222  0.059385  0.073760   \n",
            "2   0.343819  0.956944  ...       0.319265  0.888835  0.437944  0.526237   \n",
            "3   0.068209  0.900521  ...       0.099682  0.809605  0.401228  0.220221   \n",
            "4   0.068640  0.910237  ...       0.119176  0.518982  0.220624  0.204716   \n",
            "\n",
            "     SR-MMP    SR-p53       SAS  Max Ring  HBA  HBD  \n",
            "0  0.799040  0.370956  3.083287         6    4    1  \n",
            "1  0.569210  0.105093  3.412879         6    2    1  \n",
            "2  0.802707  0.758817  3.001163         6    3    1  \n",
            "3  0.842203  0.362751  3.969759         6    3    0  \n",
            "4  0.422003  0.292726  2.784428         6    1    2  \n",
            "\n",
            "[5 rows x 23 columns]\n",
            "                      SMILES  pChEMBL Predicted       QED     logP  \\\n",
            "0       O=C(O)c1ccc2ccncc2c1           5.887053  0.716365  1.93300   \n",
            "1    NC(=O)c1ccc2ccnc(N)c2n1           5.424718  0.672832  0.31090   \n",
            "2   Cc1ccc2c(c1)CN=C1NC=CC12           6.236556  0.655768  2.10762   \n",
            "3  O=C(O)Cn1ccc(=O)c2cnccc21           5.871565  0.771811  0.48110   \n",
            "4  Oc1ccc2c(c1O)CN=C1NC=CC12           6.155343  0.553903  1.21040   \n",
            "\n",
            "   Docking Scores  Similarity  MolecularWeight     NR-AR  NR-AR-LBD    NR-AhR  \\\n",
            "0            -7.5    0.377358          173.171  0.029141   0.007990  0.201117   \n",
            "1            -7.2    0.232143          188.190  0.072668   0.027390  0.781701   \n",
            "2            -8.2    0.181818          184.242  0.019546   0.004317  0.263044   \n",
            "3            -6.1    0.307692          204.185  0.024955   0.010556  0.049878   \n",
            "4            -7.8    0.173077          202.213  0.024006   0.011560  0.746546   \n",
            "\n",
            "   ...  NR-PPAR-gamma    SR-ARE  SR-ATAD5    SR-HSE    SR-MMP    SR-p53  \\\n",
            "0  ...       0.029562  0.048728  0.018163  0.016152  0.015569  0.010369   \n",
            "1  ...       0.012635  0.189976  0.139486  0.045747  0.094453  0.093919   \n",
            "2  ...       0.005464  0.118322  0.008643  0.027847  0.117964  0.016806   \n",
            "3  ...       0.016317  0.050380  0.006650  0.019720  0.004922  0.018443   \n",
            "4  ...       0.022059  0.637501  0.089692  0.172421  0.714777  0.244296   \n",
            "\n",
            "        SAS  Max Ring  HBA  HBD  \n",
            "0  1.779222         6    2    1  \n",
            "1  2.281981         6    4    2  \n",
            "2  3.909206         6    2    1  \n",
            "3  2.330391         6    4    1  \n",
            "4  4.127341         6    4    3  \n",
            "\n",
            "[5 rows x 23 columns]\n",
            "                                             SMILES  pChEMBL Predicted  \\\n",
            "0  CNc1cc(-c2c[nH]c3ncc(-c4cc(OC)c(O)cc4O)cc23)ccn1           8.038883   \n",
            "1     COc1ccc(O)c(-c2cnc3[nH]cc(-c4cnn(C)c4)c3c2)c1           7.857194   \n",
            "2       COc1ccc(O)c(-c2cnc3[nH]cc(-c4ccncc4)c3c2)c1           7.733479   \n",
            "3           N#Cc1cnc2[nH]nc(-c3ccc(CC(N)=O)cc3)c2c1           7.683425   \n",
            "4       CN1CCCC(c2ccc(-c3n[nH]c4ncc(C#N)cc34)cc2)C1           7.676670   \n",
            "\n",
            "        QED     logP  Docking Scores  Similarity  MolecularWeight     NR-AR  \\\n",
            "0  0.440783  3.75340           -10.1    0.436364          362.389  0.045157   \n",
            "1  0.606819  3.34460            -9.3    0.436364          320.352  0.034450   \n",
            "2  0.598799  4.00610            -9.3    0.500000          317.348  0.045837   \n",
            "3  0.756052  1.52438            -8.1    0.431373          277.287  0.043688   \n",
            "4  0.787115  3.30578            -8.3    0.355932          317.396  0.022482   \n",
            "\n",
            "   NR-AR-LBD    NR-AhR  ...  NR-PPAR-gamma    SR-ARE  SR-ATAD5    SR-HSE  \\\n",
            "0   0.064600  0.940548  ...       0.099542  0.833079  0.359026  0.344428   \n",
            "1   0.043808  0.878624  ...       0.074482  0.631144  0.288083  0.206089   \n",
            "2   0.070636  0.920717  ...       0.161089  0.796905  0.360324  0.340667   \n",
            "3   0.040265  0.338775  ...       0.056457  0.176062  0.093881  0.051919   \n",
            "4   0.013307  0.204705  ...       0.009892  0.166856  0.028041  0.033616   \n",
            "\n",
            "     SR-MMP    SR-p53       SAS  Max Ring  HBA  HBD  \n",
            "0  0.802964  0.546124  2.667193         6    6    4  \n",
            "1  0.498742  0.358578  2.502599         6    5    2  \n",
            "2  0.735055  0.523202  2.327544         6    4    2  \n",
            "3  0.057178  0.118971  2.457893         6    4    2  \n",
            "4  0.059977  0.037246  3.008004         6    4    1  \n",
            "\n",
            "[5 rows x 23 columns]\n"
          ]
        }
      ]
    },
    {
      "cell_type": "code",
      "source": [
        "drug_df.to_csv('all_predictions_drug_tox_docking.csv', index=False)\n",
        "diff_df.to_csv('all_predictions_diff_tox_docking.csv', index=False)\n",
        "rga_df.to_csv('all_predictions_rga_tox_docking_sas_updated.csv', index=False)\n",
        "pocket_df.to_csv('all_predictions_pocket_tox_docking.csv', index=False)\n",
        "lingo_df.to_csv('600_predictions_lingo_tox_docking.csv', index=False)\n"
      ],
      "metadata": {
        "id": "d1AS5RKifGcG"
      },
      "execution_count": null,
      "outputs": []
    },
    {
      "cell_type": "code",
      "source": [],
      "metadata": {
        "id": "UrJ2z_6gb3Ya"
      },
      "execution_count": null,
      "outputs": []
    }
  ]
}